{
 "cells": [
  {
   "cell_type": "markdown",
   "metadata": {},
   "source": [
    "## Regular verbs \n",
    "|Verb| Partizipien-2|Meaning |\n",
    "|:-:|:-:|:-:|\n",
    "|arbeiten|hat gearbeitet| To work <br> To Labour <br> To Act <br> To Operate|\n",
    "|fragen|hat gefragt|To Ask<br> To Interrogate<br> To Question<br>|\n",
    "|haben|hat gehabt|To Have<br>To Possess<br>|\n",
    "|kaufen|hat gekauft|To Buy<br>To Purchase<br>|\n",
    "|kochen|hat gekocht|To Cook<br> To Boil<br>|\n",
    "|lernen|hat gelernt|To Learn<br>To Study<br> To Take Course|\n",
    "|machen|hat gemacht|To Make<br>To Do<br> To Perform|\n",
    "|putzen|hat geputzt|To Clean<br>To Shine<br> To Polish <br>|\n",
    "|spielen|hat gespielt|To Play<br>To Perform<br> To Gamble|\n",
    "|stehlen|hat gestohlen|To Steal<br>To poach (idea)<br> To shoplift|\n",
    "|tanzen|hat getanzt|To Dance<br>To Spin<br> To Hop|\n",
    "|treffen|hat getroffen|To Meet<br>To Hit<br> To Affect (emotionally)|\n",
    "|trenken|hat getrunken|To Drink<br>To Imbibe<br>|\n",
    "|waschen|hat gewaschen|To Wash<br>To Bathe<br>|\n",
    "|h$\\ddot{o}$ren|hat geh$\\ddot{o}$rt|To Hear<br> To Listen<br> To Obey<br> To Learn<br>|\n",
    "|b$\\ddot{u}$geln|hat geb$\\ddot{u}$gelt| To Iron <br> To Press <br>To Screw (sexually) |"
   ]
  },
  {
   "cell_type": "markdown",
   "metadata": {},
   "source": [
    "## Verbs which doesn't start with \"ge\" in the Partzipien-2 form\n",
    "|Verb| Partizipien-2|Meaning |\n",
    "|:-:|:-:|:-:|\n",
    "|besuchen|hat besucht|To Attend<br> To Visit <br> To Come to see<br>|\n",
    "|bezahlen|hat bezahlt|To Pay<br> To Settle<br> To Discharge<br>|\n",
    "|diskutieren|hat diskutiert|To Discuss <br> To Debate<br>|\n",
    "|renovieren|hat renoviert|To Tenovate<br>To Re-decorate<br>|\n",
    "|reparieren|hat repariert|To Repair<br>To Fix<br> To Mend|\n",
    "|telefonieren|hat telefoniert|To Call<br>|\n",
    "|verdienen|hat vedient|To Deserve<br>To Earn<br>|\n",
    "|vergessen|hat vergessen|To Forget<br>To Unlearn<br>|\n"
   ]
  },
  {
   "cell_type": "markdown",
   "metadata": {},
   "source": [
    "## Verbs which doesn't change in Partizipien-2 form\n",
    "|Verb| Partizipien-2|Meaning |\n",
    "|:-:|:-:|:-:|\n",
    "|bekommen|hat bekommen| To Get<br> To Aquire<br> To Receive<br> To Come in<br>|"
   ]
  },
  {
   "cell_type": "markdown",
   "metadata": {},
   "source": [
    "## Verbs which doesnot change the ending from 'en' to 't'\n",
    "|Verb| Partizipien-2|Meaning |\n",
    "|:-:|:-:|:-:|\n",
    "|backen| hat gebacken| To Bake|\n",
    "|lesen|hat gelesen|To Read<br>To Pick (something like object)<br>|\n",
    "|schriben|hat geschriben|To Write<br>To Record<br> To pen|\n",
    "|schlafen|hat geschlafen |To Sleep<br>To Nod (to sleep)<br>|\n",
    "|stehlen|hat gestohlen|To Steal<br>To poach (idea)<br> To shoplift|\n",
    "|treffen|hat getroffen|To Meet<br>To Hit<br> To Affect (emotionally)|\n",
    "|trenken|hat getrunken|To Drink<br>To Imbibe<br>|"
   ]
  },
  {
   "cell_type": "markdown",
   "metadata": {},
   "source": [
    "## Trennbare Verbs in Partizipien-2\n",
    "|Verb| Partizipien-2|Meaning |\n",
    "|:-:|:-:|:-:|\n",
    "|abheben|hat abgehoben|To withdraw <br> To takeoff <br> To blast off <br> To answer|\n",
    "|abschreiben|hat abgescheiben| To Copy <br> To transcribe <br> To Depricate|\n",
    "|anrufen|hat angerufen| To Call <br> To Invoke|\n",
    "|einkufen|hat eingekauft|To Shop<br> To Purchase<br> To Buy<br>|\n",
    "|fernsehen|hat ferngesehen|To Watch TV<br>|\n",
    "|aufr$\\ddot{a}$umen|hat aufger$\\ddot{a}$umt| To Cleanup <br> To Tidy <br> To Clear|"
   ]
  },
  {
   "cell_type": "markdown",
   "metadata": {},
   "source": [
    "## Trennenbare Verben which show some action or change of state \"sein (to be)\" form\n",
    "|Verb| Partizipien-2|Meaning |\n",
    "|:-:|:-:|:-:|\n",
    "|aufstehen|ist aufgestanden|To Getup <br> To Wakeup|\n",
    "|einschlafen|ist eingeschlafen|To Fall asleep<br> To go to sleep<br>|"
   ]
  },
  {
   "cell_type": "markdown",
   "metadata": {},
   "source": [
    "## Verbs which show action or change of state \"sein (to be)\" form\n",
    "|Verb| Partizipien-2|Meaning |\n",
    "|:-:|:-:|:-:|\n",
    "|fahren|ist gefahren|To Drive<br> To Ride<br> To Race<br>| \n",
    "|gehen|ist gegangen|To Go <br> To Walk<br> To Leave<br>|\n",
    "|kommen|ist gekommen|To Come<br>To Arrive<br>|"
   ]
  }
 ],
 "metadata": {
  "kernelspec": {
   "display_name": "py37_django",
   "language": "python",
   "name": "py37_django"
  },
  "language_info": {
   "codemirror_mode": {
    "name": "ipython",
    "version": 3
   },
   "file_extension": ".py",
   "mimetype": "text/x-python",
   "name": "python",
   "nbconvert_exporter": "python",
   "pygments_lexer": "ipython3",
   "version": "3.7.1"
  }
 },
 "nbformat": 4,
 "nbformat_minor": 2
}
