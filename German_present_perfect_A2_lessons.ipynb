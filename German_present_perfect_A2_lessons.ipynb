{
 "cells": [
  {
   "cell_type": "markdown",
   "metadata": {},
   "source": [
    "## Regular verbs \n",
    "|Verb| Partizipien-2|Meaning |\n",
    "|:-:|:-:|:-:|\n",
    "|arbeiten|hat gearbeitet| To work <br> To Labour <br> To Act <br> To Operate|\n",
    "|fragen|hat gefragt|To Ask<br> To Interrogate<br> To Question<br>|\n",
    "|haben|hat gehabt|To Have<br>To Possess<br>|\n",
    "|kaufen|hat gekauft|To Buy<br>To Purchase<br>|\n",
    "|kochen|hat gekocht|To Cook<br> To Boil<br>|\n",
    "|lernen|hat gelernt|To Learn<br>To Study<br> To Take Course|\n",
    "|machen|hat gemacht|To Make<br>To Do<br> To Perform|\n",
    "|putzen|hat geputzt|To Clean<br>To Shine<br> To Polish <br>|\n",
    "|spielen|hat gespielt|To Play<br>To Perform<br> To Gamble|\n",
    "|stehlen|hat gestohlen|To Steal<br>To poach (idea)<br> To shoplift|\n",
    "|tanzen|hat getanzt|To Dance<br>To Spin<br> To Hop|\n",
    "|treffen|hat getroffen|To Meet<br>To Hit<br> To Affect (emotionally)|\n",
    "|trenken|hat getrunken|To Drink<br>To Imbibe<br>|\n",
    "|waschen|hat gewaschen|To Wash<br>To Bathe<br>|\n",
    "|h$\\ddot{o}$ren|hat geh$\\ddot{o}$rt|To Hear<br> To Listen<br> To Obey<br> To Learn<br>|\n",
    "|b$\\ddot{u}$geln|hat geb$\\ddot{u}$gelt| To Iron <br> To Press <br>To Screw (sexually) |"
   ]
  },
  {
   "cell_type": "markdown",
   "metadata": {},
   "source": [
    "## Verbs which doesn't start with \"ge\" in the Partzipien-2 form\n",
    "|Verb| Partizipien-2|Meaning |\n",
    "|:-:|:-:|:-:|\n",
    "|besuchen|hat besucht|To Attend<br> To Visit <br> To Come to see<br>|\n",
    "|bezahlen|hat bezahlt|To Pay<br> To Settle<br> To Discharge<br>|\n",
    "|diskutieren|hat diskutiert|To Discuss <br> To Debate<br>|\n",
    "|renovieren|hat renoviert|To Tenovate<br>To Re-decorate<br>|\n",
    "|reparieren|hat repariert|To Repair<br>To Fix<br> To Mend|\n",
    "|telefonieren|hat telefoniert|To Call<br>|\n",
    "|verdienen|hat vedient|To Deserve<br>To Earn<br>|\n",
    "|vergessen|hat vergessen|To Forget<br>To Unlearn<br>|\n"
   ]
  },
  {
   "cell_type": "markdown",
   "metadata": {},
   "source": [
    "## Verbs which doesn't change in Partizipien-2 form\n",
    "|Verb| Partizipien-2|Meaning |\n",
    "|:-:|:-:|:-:|\n",
    "|bekommen|hat bekommen| To Get<br> To Aquire<br> To Receive<br> To Come in<br>|"
   ]
  },
  {
   "cell_type": "markdown",
   "metadata": {},
   "source": [
    "## Verbs which doesnot change the ending from 'en' to 't'\n",
    "|Verb| Partizipien-2|Meaning |\n",
    "|:-:|:-:|:-:|\n",
    "|backen| hat gebacken| To Bake|\n",
    "|lesen|hat gelesen|To Read<br>To Pick (something like object)<br>|\n",
    "|schriben|hat geschriben|To Write<br>To Record<br> To pen|\n",
    "|schlafen|hat geschlafen |To Sleep<br>To Nod (to sleep)<br>|\n",
    "|stehlen|hat gestohlen|To Steal<br>To poach (idea)<br> To shoplift|\n",
    "|treffen|hat getroffen|To Meet<br>To Hit<br> To Affect (emotionally)|\n",
    "|trenken|hat getrunken|To Drink<br>To Imbibe<br>|"
   ]
  },
  {
   "cell_type": "markdown",
   "metadata": {},
   "source": [
    "## Trennbare Verbs in Partizipien-2\n",
    "|Verb| Partizipien-2|Meaning |\n",
    "|:-:|:-:|:-:|\n",
    "|abheben|hat abgehoben|To withdraw <br> To takeoff <br> To blast off <br> To answer|\n",
    "|abschreiben|hat abgescheiben| To Copy <br> To transcribe <br> To Depricate|\n",
    "|anrufen|hat angerufen| To Call <br> To Invoke|\n",
    "|einkufen|hat eingekauft|To Shop<br> To Purchase<br> To Buy<br>|\n",
    "|fernsehen|hat ferngesehen|To Watch TV<br>|\n",
    "|aufr$\\ddot{a}$umen|hat aufger$\\ddot{a}$umt| To Cleanup <br> To Tidy <br> To Clear|"
   ]
  },
  {
   "cell_type": "markdown",
   "metadata": {},
   "source": [
    "## Trennenbare Verben which show some action or change of state \"sein (to be)\" form\n",
    "|Verb| Partizipien-2|Meaning |\n",
    "|:-:|:-:|:-:|\n",
    "|aufstehen|ist aufgestanden|To Getup <br> To Wakeup|\n",
    "|einschlafen|ist eingeschlafen|To Fall asleep<br> To go to sleep<br>|"
   ]
  },
  {
   "cell_type": "markdown",
   "metadata": {},
   "source": [
    "## Verbs which show action or change of state \"sein (to be)\" form\n",
    "|Verb| Partizipien-2|Meaning |\n",
    "|:-:|:-:|:-:|\n",
    "|fahren|ist gefahren|To Drive<br> To Ride<br> To Race<br>| \n",
    "|gehen|ist gegangen|To Go <br> To Walk<br> To Leave<br>|\n",
    "|kommen|ist gekommen|To Come<br>To Arrive<br>|"
   ]
  },
  {
   "cell_type": "markdown",
   "metadata": {},
   "source": [
    "## Most common verbs\n",
    "|P$\\ddot{a}sens$| Pr$\\ddot{a}$teritum|Perfect |\n",
    "|:-:|:-:|:-:|\n",
    "|Ich lerne <br> **lernen** <br> (to learn)|Ich lernte|Ich habe gelernt|\n",
    "|Ich wohne <br> **wohnen** <br> (to stay)|Ich wohnte|Ich habe gewohnt|\n",
    "|Ich spreche <br> **sprechen** <br> (to speak)|Ich sprach|Ich habe gesprochen|\n",
    "|Ich komme <br> **kommen** <br> (to come)|Ich kam|Ich bin gekommen|\n",
    "|Ich Arbite <br> **arbiten** <br> (to work)|Ich arbitete|Ich habe gearbietet|\n",
    "|Ich esse <br> **essen** <br> (to eat)|Ich a$\\beta$|Ich habe gegessen|\n",
    "|Ich trinke <br> **trinken** <br> (to drink)|Ich trank|Ich habe getrunken|\n",
    "|Ich habe <br> **haben** <br> (to have)|Ich hatte|Ich habe gehabt|\n",
    "|Ich bin <br> **sein** <br> (to be)|Ich war|Ich bin gewesen|\n",
    "|Ich verstehe <br> **verstehen** <br> (to understand)|Ich verstand|Ich habe verstanden|\n",
    "|Ich spiele <br> **spielen** <br> (to play)|Ich spielte|Ich habe gespielt|\n",
    "|Ich schlafe <br> **schlafen** <br> (to sleep)|Ich schlief|Ich habe geschlafen|\n",
    "|Ich fahre <br> **fahren** <br> (to drive)|Ich fuhr|Ich bin gefahren|\n",
    "|Ich gehe <br> **gehen** <br> (to go/walk)|Ich ging|Ich bin gegangen|\n",
    "|Ich mache <br> **machen** <br> (to make)|Ich machte|Ich habe gemacht|\n",
    "|Ich sage <br> **sagen** <br> (to say)|Ich sagte|Ich habe gesagt|\n",
    "|Ich kaufe <br> **kaufen** <br> (to buy)|Ich kaute|Ich habe gekauft|\n",
    "|Ich bezhale <br>**bezhalen** <br> (to pay)|Ich bezhalte|Ich habe bezhalt|\n",
    "|Ich nehme <br> **nehmen** <br> (to take)|Ich nahm|Ich habe genommen|\n",
    "|Ich mag <br> **m$\\ddot{o}gen$** <br> (to like)|Ich mochte|Ich habe gemocht|\n",
    "|Ich will <br> **w$\\ddot{o}$llen** <br> (want)|Ich wollte|Ich habe gewollt|\n",
    "|Ich Kann <br> **k$\\ddot{o}$nnen** <br> (can)|Ich Konnte|-|\n",
    "|Ich darf <br> **d$\\ddot{u}$rfen** <br> (Allow)|Ich durfte|-|\n",
    "|Ich soll <br> **sollen** <br> (should)|Ich sollte|-|\n",
    "|Ich m$\\ddot{o}$chte <br> **m$\\ddot{o}$chten** <br>(would like)|Ich wollte|-|\n"
   ]
  },
  {
   "cell_type": "markdown",
   "metadata": {},
   "source": [
    "|P$\\ddot{a}sens$| Pr$\\ddot{a}$teritum|Perfect |\n",
    "|:-:|:-:|:-:|\n",
    "|Ich wei$\\beta$ <br>**wissen** <br> (to know)|Ich wusste|Ich habe gewusst|\n",
    "|Ich kenne <br> **kennen** <br> (to know)|Ich kannte|Ich habe gekannt|\n",
    "|Ich denke <br> **denken** <br> (to think)|Ich dachte|Ich habe gedacht|\n",
    "|Ich sehe <br> **sehen** <br> (to see)|Ich sah|Ich habe gesehen|\n",
    "|Ich h$\\ddot{o}$re <br> **h$\\ddot{o}$ren** <br> (to hear)|Ich h$\\ddot{o}$rte|Ich habe geh$\\ddot{o}$rt|\n",
    "|Ich gebe <br> **geben** <br> (to give)|Ich gab|Ich habe gegeben|\n",
    "|Ich zeige <br> **zeigen** <br> (to show)|Ich zeigte|Ich habe gezeigt|\n",
    "|Ich sitze <br> **sitzen** <br> (to sit)|Ich sa$\\beta$|Ich habe gesessen|\n",
    "|Ich liege <br> **liegen** <br> (to liedown)|Ich lag|Ich habe gelegen|\n",
    "|Ich stehe <br> **stehen** <br> (to stand)|Ich stand|Ich habe gestanden|\n",
    "|Ich laufe <br> **laufen** <br> (to run/walk)|Ich lief|Ich habe gelaufen|\n",
    "|Ich bringe <br> **bringen** <br> (to bring) |Ich brachte|Ich habe gebracht|\n",
    "|Ich f$\\ddot{u}$le<br> **f$\\ddot{u}$len** <br> (to feel)|Ich f$\\ddot{u}$hlte|Ich habe gef$\\ddot{u}$hlt|\n",
    "|Ich glaube<br> **glauben** <br> (to belive)|Ich glaubte|Ich habe geglaubt|\n",
    "|Ich hei$\\beta$e <br> **hei$\\beta$en** <br> (to be called) |Ich h**ie**$\\beta$|Ich habe |\n",
    "|Ich ziehe<br> **ziehen** <br> (to pull)|Ich zog|Ich habe zogen|\n",
    "|Ich verliere<br> **verlieren** <br> (to lose)|Ich verlor|Ich habe verloren|\n",
    "|Ich gewinne <br> **gewinnen** <br> (to win)|Ich gewann |Ich habe gewonnen|\n",
    "|Ich brauche <br> **brauchen** <br> (to need)|Ich braucht|Ich habe gebraucht|\n",
    "|Ich schreibe <br> **schreiben** <br> (to write)|Ich schr**ie**b|Ich habe geschr**ie**ben|\n",
    "|Ich liebe <br> **lieben** <br> (to love)|Ich liebte |Ich habe geliebt|\n",
    "|Ich schwimme <br> **schwimmen** <br> (to swim) |Ich schwamm|Ich bin schwommen|\n",
    "|Ich baue<br> **bauen** <br> (to build)|Ich baute|Ich habe gebaut|\n",
    "|Ich schicke<br> **schicken** <br> (to send)|Ich schickte|Ich habe geschickt|\n",
    "|Ich lache <br> **lachen** <br> (to laugh) |Ich lachte|Ich habe gelacht|"
   ]
  },
  {
   "cell_type": "markdown",
   "metadata": {},
   "source": [
    "|P$\\ddot{a}sens$| Pr$\\ddot{a}$teritum|Perfect |\n",
    "|:-:|:-:|:-:|\n",
    "|Ich <br> ** ** <br> |Ich|Ich habe|\n",
    "|Ich <br> ** ** <br> |Ich|Ich habe|\n",
    "|Ich <br> ** ** <br> |Ich|Ich habe|\n",
    "|Ich <br> ** ** <br> |Ich|Ich habe|\n",
    "|Ich <br> ** ** <br> |Ich|Ich habe|\n",
    "|Ich <br> ** ** <br> |Ich|Ich habe|\n",
    "|Ich <br> ** ** <br> |Ich|Ich habe|\n",
    "|Ich <br> ** ** <br> |Ich|Ich habe|\n",
    "|Ich <br> ** ** <br> |Ich|Ich habe|\n",
    "|Ich <br> ** ** <br> |Ich|Ich habe|\n",
    "|Ich <br> ** ** <br> |Ich|Ich habe|\n",
    "|Ich <br> ** ** <br> |Ich|Ich habe|\n",
    "|Ich <br> ** ** <br> |Ich|Ich habe|\n",
    "|Ich <br> ** ** <br> |Ich|Ich habe|\n",
    "|Ich <br> ** ** <br> |Ich|Ich habe|\n",
    "|Ich <br> ** ** <br> |Ich|Ich habe|\n",
    "|Ich <br> ** ** <br> |Ich|Ich habe|\n",
    "|Ich <br> ** ** <br> |Ich|Ich habe|\n",
    "|Ich <br> ** ** <br> |Ich|Ich habe|\n",
    "|Ich <br> ** ** <br> |Ich|Ich habe|\n",
    "|Ich <br> ** ** <br> |Ich|Ich habe|\n",
    "|Ich <br> ** ** <br> |Ich|Ich habe|\n",
    "|Ich <br> ** ** <br> |Ich|Ich habe|\n",
    "|Ich <br> ** ** <br> |Ich|Ich habe|"
   ]
  },
  {
   "cell_type": "markdown",
   "metadata": {},
   "source": [
    "|P$\\ddot{a}sens$| Pr$\\ddot{a}$teritum|Perfect |\n",
    "|:-:|:-:|:-:|\n",
    "|Ich <br> ** ** <br> |Ich|Ich habe|\n",
    "|Ich <br> ** ** <br> |Ich|Ich habe|\n",
    "|Ich <br> ** ** <br> |Ich|Ich habe|\n",
    "|Ich <br> ** ** <br> |Ich|Ich habe|\n",
    "|Ich <br> ** ** <br> |Ich|Ich habe|\n",
    "|Ich <br> ** ** <br> |Ich|Ich habe|\n",
    "|Ich <br> ** ** <br> |Ich|Ich habe|\n",
    "|Ich <br> ** ** <br> |Ich|Ich habe|\n",
    "|Ich <br> ** ** <br> |Ich|Ich habe|\n",
    "|Ich <br> ** ** <br> |Ich|Ich habe|\n",
    "|Ich <br> ** ** <br> |Ich|Ich habe|\n",
    "|Ich <br> ** ** <br> |Ich|Ich habe|\n",
    "|Ich <br> ** ** <br> |Ich|Ich habe|\n",
    "|Ich <br> ** ** <br> |Ich|Ich habe|\n",
    "|Ich <br> ** ** <br> |Ich|Ich habe|\n",
    "|Ich <br> ** ** <br> |Ich|Ich habe|\n",
    "|Ich <br> ** ** <br> |Ich|Ich habe|\n",
    "|Ich <br> ** ** <br> |Ich|Ich habe|\n",
    "|Ich <br> ** ** <br> |Ich|Ich habe|\n",
    "|Ich <br> ** ** <br> |Ich|Ich habe|\n",
    "|Ich <br> ** ** <br> |Ich|Ich habe|\n",
    "|Ich <br> ** ** <br> |Ich|Ich habe|\n",
    "|Ich <br> ** ** <br> |Ich|Ich habe|\n",
    "|Ich <br> ** ** <br> |Ich|Ich habe|"
   ]
  },
  {
   "cell_type": "markdown",
   "metadata": {},
   "source": [
    "# &#228; &#0196; &#0246; &#0214;  &#252; &#0220; &#0223;\n",
    "\n",
    "|**Letter**|**code**|\n",
    "|:-:|:-:|\n",
    "|**&#0228;**|**&#0228**|\n",
    "|**&#0196;**|**&#0196**|\n",
    "|**&#0246;**|**&#0246**|\n",
    "|**&#0214;**|**&#0214**|\n",
    "|**&#0252;**|**&#0252**|\n",
    "|**&#0220;**|**&#0220**|\n",
    "|**&#0223;**|**&#0223**|"
   ]
  }
 ],
 "metadata": {
  "kernelspec": {
   "display_name": "py37_django",
   "language": "python",
   "name": "py37_django"
  },
  "language_info": {
   "codemirror_mode": {
    "name": "ipython",
    "version": 3
   },
   "file_extension": ".py",
   "mimetype": "text/x-python",
   "name": "python",
   "nbconvert_exporter": "python",
   "pygments_lexer": "ipython3",
   "version": "3.7.1"
  }
 },
 "nbformat": 4,
 "nbformat_minor": 2
}
