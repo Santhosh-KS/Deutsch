{
 "cells": [
  {
   "cell_type": "markdown",
   "metadata": {},
   "source": [
    "## Bestimmt Artikel (Definate Article)\n",
    "\n",
    "|Type|Masculine|Feminine|Neutral|Plural|Shortcut|\n",
    "|:-:|:-:|:-:|:-:|:-:|:-:|\n",
    "|**Nominative** (Subject)|De**r**|Di**e**|Da**s**|Di**e**|**r.e.s.e**|\n",
    "|**Accusative** (Direct Object)|De**n**|Di**e**|Da**s**|Di**e**|**n.e.s.e**|\n",
    "|**Dative** (In-Direct Object)|De**m**|De**r**|De**m**|Den+**n**|**m.r.m.n**|\n",
    "|**Genitive** (Possession)|De**s**|De**r**|De**s**|De**r**|**s.r.s.r**|"
   ]
  },
  {
   "cell_type": "markdown",
   "metadata": {},
   "source": [
    "# \"Ein\" words\n",
    "\n",
    "| Sl | words|\n",
    "|:--:| :--:|\n",
    "| 1 |  ein|\n",
    "| 2 |  kein|\n",
    "| 3 |  mein|\n",
    "| 4 |  dein|\n",
    "| 5 |  sein/ihr|\n",
    "| 6 |  unser|\n",
    "| 7 |  euer|\n",
    "| 8 |  ihr|"
   ]
  },
  {
   "cell_type": "markdown",
   "metadata": {},
   "source": [
    "|Type|Masculine|Feminine|Neutral|Plural|Shortcut|\n",
    "|:-:|:-:|:-:|:-:|:-:|:-:|\n",
    "|**Nominative** (Subject)|R|E|S|E|**r.e.s.e**|\n",
    "|**Accusative** (Direct Object)|N|E|S|E|**n.e.s.e**|\n",
    "|**Dative** (In-Direct Object)|M|R|M|N|**m.r.m.n**|\n",
    "|**Genitive** (Possession)|S|R|S|R|**s.r.s.r**|"
   ]
  },
  {
   "cell_type": "markdown",
   "metadata": {},
   "source": [
    "# Very good video link\n",
    "\n",
    "[youtube](https://www.youtube.com/watch?v=VGPJVmRxla8)"
   ]
  },
  {
   "cell_type": "markdown",
   "metadata": {},
   "source": [
    "# One table to rule them all!\n",
    "|Type|Masculine|Feminine|Neutral|Plural|Shortcut|\n",
    "|:-:|:-:|:-:|:-:|:-:|:-:|\n",
    "|**Nominative** (Subject)|R<sub>🚫</sub>|E|S<sub>🚫</sub>|E|**r.e.s.e**|\n",
    "|**Accusative** (Direct Object)|N|E|S<sub>🚫</sub>|E|**n.e.s.e**|\n",
    "|**Dative** (In-Direct Object)|M|R|M|N<sub>+n</sub>|**m.r.m.n**|\n",
    "|**Genitive** (Possession)|S<sub>+s</sub>|R|S<sub>+s</sub>|R|**s.r.s.r**|\n",
    "\n",
    "\n"
   ]
  },
  {
   "cell_type": "markdown",
   "metadata": {},
   "source": []
  },
  {
   "cell_type": "markdown",
   "metadata": {},
   "source": [
    "## Unbestimmt Artikel (Indefinate article)\n",
    "\n",
    "|Type|Masculine|Feminine|Neutral|Plural|\n",
    "|:-:|:-:|:-:|:-:|:-:|\n",
    "|**Nominative** (Subject)|ein|eine|ein|-|\n",
    "|**Accusative** (Direct Object)|einen|eine|ein|-|\n",
    "|**Dative** (In-Direct Object)|einem|einer|einem|-|\n",
    "|**Genitive** (Possession)|eines|einer|eines|-|\n"
   ]
  },
  {
   "cell_type": "markdown",
   "metadata": {},
   "source": [
    "## Negation Article.\n",
    "\n",
    "|Type|Masculine|Feminine|Neutral|Plural|\n",
    "|:-:|:-:|:-:|:-:|:-:|\n",
    "|**Nominative** (Subject)|kein|keine|kein|keine|\n",
    "|**Accusative** (Direct Object)|keinen|keine|kein|keine|\n",
    "|**Dative** (In-Direct Object)|keinem|keiner|keinem|keinen+n|\n",
    "|**Genitive** (Possession)|keines|keiner|keines|keiner|\n"
   ]
  },
  {
   "cell_type": "markdown",
   "metadata": {},
   "source": [
    "## Modal Verbs\n",
    "| English |  Deutsch |K&#0246;nnen <br> (can)| M&#0252;ssen <br> (must) | Wollen <br>(want) | Sollen <br> (Should) | D&#0252;rfen <br> (May/Allow)|m&#0246;gen <br> ( to like)|\n",
    "|--|--| --|--| --|--| --| --|\n",
    "|I| Ich| e| **Muss**| M$\\ddot{o}$chte |**Kann**|**Soll**|**Will**|**Darf**|**Mag**|\n",
    "|You (singular)| du| st| **Musst**| M$\\ddot{o}$chtest |**Kannst**|**Sollst**|**Willst**|**Darfst**|**Magst**|\n",
    "|He/She/It| er/sie/es| t| **Muss**| M$\\ddot{o}$chte |**kann**|**Soll**|**Will**|**Darf**|**Mag**|\n",
    "|We| wir| en| M$\\ddot{u}$ssen | M$\\ddot{o}$chten | K$\\ddot{o}$nnen|Sollen|Wollen|D$\\ddot{u}$rfen| M$\\ddot{o}$gen|\n",
    "|You all| Ihr| t| M$\\ddot{u}$ss**t**| M$\\ddot{o}$chtet |K$\\ddot{o}$nn**t**|Soll**t**|Woll**t**|D$\\ddot{u}$rf**t**| M$\\ddot{o}$g**t**|\n",
    "|They| sie| en| M$\\ddot{u}$ssen| M$\\ddot{o}$chten |K$\\ddot{o}$nnen|Sollen|Wollen|D$\\ddot{u}$rfen| M$\\ddot{o}$gen|\n",
    "|You (plural)| Sie| en| M$\\ddot{u}$ssen|M$\\ddot{o}$chten |K$\\ddot{o}$nnen|Sollen|Wollen|D$\\ddot{u}$rfen| M$\\ddot{o}$gen|"
   ]
  },
  {
   "cell_type": "markdown",
   "metadata": {},
   "source": [
    "**Sein (to be) and haben (to have)**\n",
    "\n",
    "|English| Deutsch| Ends with| Sein | Haben|\n",
    "|:-|:-|:-:|:-:|:-:|\n",
    "|I| Ich| e| bin <br>(am)| hab**e** <br>(have)|\n",
    "|You (singular)| du| st| bist<br> (are)| has**t** <br> (have)|\n",
    "|He/She/It| er/sie/es| t| ist <br>(is) | ha**t** <br> (has)|\n",
    "|We| wir| en| Sind <br>(are) | hab**en** <br>(have)|\n",
    "|You all| Ihr| t| Seid<br> (are) | hab**t** <br>(have)|\n",
    "|They| sie| en| Sind <br>(are) | hab**en** <br>(have)|\n",
    "|You (plural)| Sie| en| Sind <br> (are/is)| hab**en** <br>(have)|"
   ]
  },
  {
   "cell_type": "markdown",
   "metadata": {},
   "source": [
    "### Pr$\\ddot{a}$positions (Prepositions)\n",
    "\n",
    "|Akkusative <br>Pr$\\ddot{a}$positions| Dative <br>Pr$\\ddot{a}$positions|Wechseln <br>Pr$\\ddot{a}$positions|\n",
    "|:-:|:-:|:-:|\n",
    "|**Durch** <br> (Through/By)| **Aus** <br> (From)| **An** <br> (On,vertical)|\n",
    "|**Ohne** <br> (Without)|**Au$\\beta$er** <br>(Except)| **In** <br> (In)|\n",
    "|**Gegen** <br> (against/around)|**Bei** <br> (At/With)|**Auf** <br> (On,Horizontal)|\n",
    "|**F$\\ddot{u}$r** <br> (for)|**Mit** <br> (With)|**Neben** <br> (Near, Next to)|\n",
    "|**Um** <br> (at/untill/around)|**Seit** <br> (Since)|**Vor** <br> (In front)|\n",
    "|**Bis** <br>(till/untill)|**nach** <br> (After/To)|**Hinter** <br> (Behind)|\n",
    "|**Entlang** <br> (alongside)|**Von** <br> (Of/By/From)|**Zwischen** <br> (Between)|\n",
    "|-|**Zu** <br> (At/To)|**$\\ddot{U}$ber** <br> (Above/Over)|\n",
    "|-|**Ab** <br> (From)|**Unter** <br> (Under/Below)|\n",
    "|-|**Gegen$\\ddot{u}$ber** <br> (opposite to)|-|\n"
   ]
  },
  {
   "cell_type": "markdown",
   "metadata": {},
   "source": [
    "### Pronouns\n",
    "\n",
    "|English| Accusative <br> Pronouns| Dativ <br> Pronouns|\n",
    "|:-:|:-:|:-:|\n",
    "|I|mich|mir|\n",
    "|You|dich|dir|\n",
    "|Him|ihn|ihm|\n",
    "|Her|sie|ihr|\n",
    "|Its|es|ihm|\n",
    "|Ours|uns|uns|\n",
    "|Yours|euch|euch|\n",
    "|Theirs|sie|Ihnen|\n",
    "|Yours|Sie|Ihnen|\n"
   ]
  },
  {
   "cell_type": "markdown",
   "metadata": {},
   "source": [
    "### Possessive articles:\n",
    "\n",
    "|English| article|\n",
    "|:-:|:-:|\n",
    "|Mine|mein|\n",
    "|Yours|dein|\n",
    "|His|sein|\n",
    "|Her's|ihr|\n",
    "|Its|sein|\n",
    "|Ours|unser|\n",
    "|Yours|euer|\n",
    "|Their's|ihr|\n",
    "|Yours|ihr|"
   ]
  },
  {
   "cell_type": "markdown",
   "metadata": {},
   "source": [
    "### mine\n",
    "\n",
    "|Type|Masculine|Feminine|Neutral|Plural|\n",
    "|:-:|:-:|:-:|:-:|:-:|\n",
    "|**Nominative** (Subject)|mein|meine|mein|meine|\n",
    "|**Accusative** (Direct Object)|meinen|meine|mein|meine|\n",
    "|**Dative** (In-Direct Object)|meinem|meiner|meinem|meinen+n|\n",
    "|**Genitive** (Possession)|meines|meiner|meines|meiner|"
   ]
  },
  {
   "cell_type": "markdown",
   "metadata": {},
   "source": [
    "### your's\n",
    "\n",
    "|Type|Masculine|Feminine|Neutral|Plural|\n",
    "|:-:|:-:|:-:|:-:|:-:|\n",
    "|**Nominative** (Subject)|dein|deine|dein|deine|\n",
    "|**Accusative** (Direct Object)|deinen|deine|dein|deine|\n",
    "|**Dative** (In-Direct Object)|deinem|deiner|deinem|deinen+n|\n",
    "|**Genitive** (Possession)|deines|deiner|deines|deiner|"
   ]
  },
  {
   "cell_type": "markdown",
   "metadata": {},
   "source": [
    "### it's / his\n",
    "\n",
    "|Type|Masculine|Feminine|Neutral|Plural|\n",
    "|:-:|:-:|:-:|:-:|:-:|\n",
    "|**Nominative** (Subject)|sein|seine|sein|seine|\n",
    "|**Accusative** (Direct Object)|seinen|seine|sein|seine|\n",
    "|**Dative** (In-Direct Object)|seinem|seiner|seinem|seinen+n|\n",
    "|**Genitive** (Possession)|seines|seiner|seines|seiner|"
   ]
  },
  {
   "cell_type": "markdown",
   "metadata": {},
   "source": [
    "### her's / their's / your's\n",
    "|Type|Masculine|Feminine|Neutral|Plural|\n",
    "|:-:|:-:|:-:|:-:|:-:|\n",
    "|**Nominative** (Subject)|ihr|ihre|ihr|ihre|\n",
    "|**Accusative** (Direct Object)|ihren|ihre|ihr|ihre|\n",
    "|**Dative** (In-Direct Object)|ihrem|ihrer|ihrem|ihren+n|\n",
    "|**Genitive** (Possession)|ihres|ihrer|ihres|ihrer|"
   ]
  },
  {
   "cell_type": "markdown",
   "metadata": {},
   "source": [
    "### Our's\n",
    "|Type|Masculine|Feminine|Neutral|Plural|\n",
    "|:-:|:-:|:-:|:-:|:-:|\n",
    "|**Nominative** (Subject)|unser|unsere|unser|unsere|\n",
    "|**Accusative** (Direct Object)|unseren|unsere|unser|unsere|\n",
    "|**Dative** (In-Direct Object)|unserem|unserer|unserem|unseren+n|\n",
    "|**Genitive** (Possession)|unseres|unserer|unseres|unserer|"
   ]
  },
  {
   "cell_type": "markdown",
   "metadata": {},
   "source": [
    "### Yours\n",
    "|Type|Masculine|Feminine|Neutral|Plural|\n",
    "|:-:|:-:|:-:|:-:|:-:|\n",
    "|**Nominative** (Subject)|euer|eu**re**|euer|eu**re**|\n",
    "|**Accusative** (Direct Object)|eur**en**|eu**re**|euer|**eure**|\n",
    "|**Dative** (In-Direct Object)|eur**em**|eur**er**|eur**em**|eur**en+n**|\n",
    "|**Genitive** (Possession)|eur**es**|eur**er**|eur**es**|eur**er**|"
   ]
  },
  {
   "cell_type": "markdown",
   "metadata": {},
   "source": [
    "## Article identification table\n",
    "\n",
    "|Der|Die|Das|\n",
    "|:--:|:--:|:--:|\n",
    "|ant|e|chen|\n",
    "|ig|ei|lein|\n",
    "|ling|schaft|ment|\n",
    "|us|heit|nis|\n",
    "|er|keit|tum|\n",
    "|en|ung|um|\n",
    "|or|t$\\ddot a$t||\n",
    "|is|ik||\n",
    "|ismus|ion||\n",
    "||ur||\n",
    "||enz||"
   ]
  },
  {
   "cell_type": "markdown",
   "metadata": {},
   "source": [
    "## Der-words\n",
    "These words follows the **Der Table**\n",
    "\n",
    "|Deutsch| English|\n",
    "|:--:|:--:|\n",
    "|Welch|Which|\n",
    "|Jed|Each/Every|\n",
    "|Manch|Some|\n",
    "|Dies|This/That/These|\n",
    "|Solch|Such|"
   ]
  },
  {
   "cell_type": "markdown",
   "metadata": {},
   "source": [
    "|Type|Masculine|Feminine|Neutral|Plural|Shortcut|\n",
    "|:-:|:-:|:-:|:-:|:-:|:-:|\n",
    "|**Nominative** (Subject)|Jed**er**<br>(De**r**)|Jed**e**<br>(Di**e**)|Jed**es** <br>(Da**s**)|Jed**e**<br>(Di**e**)|**r.e.s.e**|\n",
    "|**Accusative** (Direct Object)|Jed**en**<br>(De**n**)|Jed**e**<br>(Di**e**)|Jed**es** <br> (Da**s**)|Jed**e**<br>(Di**e**)|**n.e.s.e**|\n",
    "|**Dative** (In-Direct Object)|Jed**em**<br>(De**m**)|Jed**er**<br>(De**r**)|Jed**em**<br>(De**m**)|Jed**en+n**<br>(Den+**n**)|**m.r.m.n**|\n",
    "|**Genitive** (Possession)|Jed**es**<br>(De**s**)|Jed**er**<br>(De**r**)|Jed**es**<br>(De**s**)|Jed**er**<br>(De**r**)|**s.r.s.r**|"
   ]
  },
  {
   "cell_type": "markdown",
   "metadata": {},
   "source": [
    "|Type|Masculine|Feminine|Neutral|Plural|Shortcut|\n",
    "|:-:|:-:|:-:|:-:|:-:|:-:|\n",
    "|**Nominative** (Subject)|Welch**er**<br>(De**r**)|Welch**e**<br>(Di**e**)|Welch**es** <br>(Da**s**)|Welch**e**<br>(Di**e**)|**r.e.s.e**|\n",
    "|**Accusative** (Direct Object)|Welch**en**<br>(De**n**)|Welch**e**<br>(Di**e**)|Welch**es** <br> (Da**s**)|Welch**e**<br>(Di**e**)|**n.e.s.e**|\n",
    "|**Dative** (In-Direct Object)|Welch**em**<br>(De**m**)|Welch**er**<br>(De**r**)|Welch**em**<br>(De**m**)|Welch**en+n**<br>(Den+**n**)|**m.r.m.n**|\n",
    "|**Genitive** (Possession)|Welch**es**<br>(De**s**)|Welch**er**<br>(De**r**)|Welch**es**<br>(De**s**)|Welch**er**<br>(De**r**)|**s.r.s.r**|"
   ]
  },
  {
   "cell_type": "markdown",
   "metadata": {},
   "source": [
    "|Type|Masculine|Feminine|Neutral|Plural|Shortcut|\n",
    "|:-:|:-:|:-:|:-:|:-:|:-:|\n",
    "|**Nominative** (Subject)|Manch**er**<br>(De**r**)|Manch**e**<br>(Di**e**)|Manch**es** <br>(Da**s**)|Manch**e**<br>(Di**e**)|**r.e.s.e**|\n",
    "|**Accusative** (Direct Object)|Manch**en**<br>(De**n**)|Manch**e**<br>(Di**e**)|Manch**es** <br> (Da**s**)|Manch**e**<br>(Di**e**)|**n.e.s.e**|\n",
    "|**Dative** (In-Direct Object)|Manch**em**<br>(De**m**)|Manch**er**<br>(De**r**)|Manch**em**<br>(De**m**)|Manch**en+n**<br>(Den+**n**)|**m.r.m.n**|\n",
    "|**Genitive** (Possession)|Manch**es**<br>(De**s**)|Manch**er**<br>(De**r**)|Manch**es**<br>(De**s**)|Manch**er**<br>(De**r**)|**s.r.s.r**|"
   ]
  },
  {
   "cell_type": "markdown",
   "metadata": {},
   "source": [
    "|Type|Masculine|Feminine|Neutral|Plural|Shortcut|\n",
    "|:-:|:-:|:-:|:-:|:-:|:-:|\n",
    "|**Nominative** (Subject)|Dies**er**<br>(De**r**)|Dies**e**<br>(Di**e**)|Dies**es** <br>(Da**s**)|Dies**e**<br>(Di**e**)|**r.e.s.e**|\n",
    "|**Accusative** (Direct Object)|Dies**en**<br>(De**n**)|Dies**e**<br>(Di**e**)|Dies**es** <br> (Da**s**)|Dies**e**<br>(Di**e**)|**n.e.s.e**|\n",
    "|**Dative** (In-Direct Object)|Dies**em**<br>(De**m**)|Dies**er**<br>(De**r**)|Dies**em**<br>(De**m**)|Dies**en+n**<br>(Den+**n**)|**m.r.m.n**|\n",
    "|**Genitive** (Possession)|Dies**es**<br>(De**s**)|Dies**er**<br>(De**r**)|Dies**es**<br>(De**s**)|Dies**er**<br>(De**r**)|**s.r.s.r**|"
   ]
  },
  {
   "cell_type": "markdown",
   "metadata": {},
   "source": [
    "|Type|Masculine|Feminine|Neutral|Plural|Shortcut|\n",
    "|:-:|:-:|:-:|:-:|:-:|:-:|\n",
    "|**Nominative** (Subject)|Solch**er**<br>(De**r**)|Solch**e**<br>(Di**e**)|Solch**es** <br>(Da**s**)|Solch**e**<br>(Di**e**)|**r.e.s.e**|\n",
    "|**Accusative** (Direct Object)|Solch**en**<br>(De**n**)|Solch**e**<br>(Di**e**)|Solch**es** <br> (Da**s**)|Solch**e**<br>(Di**e**)|**n.e.s.e**|\n",
    "|**Dative** (In-Direct Object)|Solch**em**<br>(De**m**)|Solch**er**<br>(De**r**)|Solch**em**<br>(De**m**)|Solch**en+n**<br>(Den+**n**)|**m.r.m.n**|\n",
    "|**Genitive** (Possession)|Solch**es**<br>(De**s**)|Solch**er**<br>(De**r**)|Solch**es**<br>(De**s**)|Solch**er**<br>(De**r**)|**s.r.s.r**|"
   ]
  },
  {
   "cell_type": "markdown",
   "metadata": {},
   "source": [
    "## Adjektivendungen mit dem bestimmiten Artikel\n",
    "\n",
    "|Type|Masculine|Feminine|Neutral|Plural|\n",
    "|:-:|:-:|:-:|:-:|:-:|\n",
    "|**Nominative** (Subject)|e|e|e|en|\n",
    "|**Accusative** (Direct Object)|en|e|e|en|\n",
    "|**Dative** (In-Direct Object)|en|en|en|en|\n",
    "|**Genitive** (Possession)|en|en|en|en|"
   ]
  },
  {
   "cell_type": "markdown",
   "metadata": {},
   "source": [
    "## Adjektivendungen mit dem unbestimmiten Artikel \"ein\"\n",
    "\n",
    "|Type|Masculine|Feminine|Neutral|Plural|\n",
    "|:-:|:-:|:-:|:-:|:-:|\n",
    "|**Nominative** (Subject)|er|e|es|e|\n",
    "|**Accusative** (Direct Object)|en|e|es|e|\n",
    "|**Dative** (In-Direct Object)|en|en|en|en|\n",
    "|**Genitive** (Possession)|en|en|en|er|"
   ]
  },
  {
   "cell_type": "markdown",
   "metadata": {},
   "source": [
    "## Adjektivendungen ohne Artikel \n",
    "\n",
    "|Type|Masculine|Feminine|Neutral|Plural|\n",
    "|:-:|:-:|:-:|:-:|:-:|\n",
    "|**Nominative** (Subject)|er|e|es|e|\n",
    "|**Accusative** (Direct Object)|en|e|es|e|\n",
    "|**Dative** (In-Direct Object)|em|er|em|en|\n",
    "|**Genitive** (Possession)|en|er|en|er|"
   ]
  },
  {
   "cell_type": "markdown",
   "metadata": {},
   "source": [
    "## Adjektivendungen nach dem Negation Artikel\n",
    "\n",
    "|Type|Masculine|Feminine|Neutral|Plural|\n",
    "|:-:|:-:|:-:|:-:|:-:|\n",
    "|**Nominative** (Subject)|Keiner|Keine|Keines|Keinen|\n",
    "|**Accusative** (Direct Object)|Keinen|Keine|Keines|Keinen|\n",
    "|**Dative** (In-Direct Object)|Keinem|Keiner|Keinem|Keinen|\n",
    "|**Genitive** (Possession)|Keinen|Keiner|Keinen|Keiner|"
   ]
  },
  {
   "cell_type": "markdown",
   "metadata": {},
   "source": [
    "## Präteritum (Past tense for sein and haben)\n",
    "\n",
    "| English | Deutsch| Sein | Haben |\n",
    "|:-: | :-: |:-:|:-:|\n",
    "|I| Ich| war <br>(was)| hatte <br>(had)|\n",
    "|You (singular)| du| war**st**<br> (were)| hatte**st** <br> (had)|\n",
    "|He/She/It| er/sie/es|war <br>(was) | hatt**e** <br> (had)|\n",
    "|We| wir| war**en** <br>(were) | hatte**n** <br>(had)|\n",
    "|You all| Ihr| war**t** <br> (were) | hatte**t** <br>(had)|\n",
    "|They| sie| war**en** <br>(were) | hatte**n** <br>(had)|\n",
    "|You (plural)| Sie| war**en** <br> (was/were)| hatte**n** <br>(had)|"
   ]
  },
  {
   "cell_type": "markdown",
   "metadata": {},
   "source": [
    "## Präteritum (Past tense for modal verbs)\n",
    "\n",
    "| English |  Deutsch |K&#0246;nnen <br> (can)| M&#0252;ssen <br> (must) | Wollen <br>(want) | Sollen <br> (Should) | D&#0252;rfen <br> (May/Allow)|m&#0246;gen <br> ( to like)|\n",
    "|--|--| --|--| --|--| --| --|\n",
    "|I| Ich| konnte| musste|wollte|sollte|durfte| mochte |\n",
    "|You (singular)| du| konnte**st**| musste**st**|wollte**st**|sollte**st**|durfte**st**|mochte**st**|\n",
    "|He/She/It| er/sie/es|konnte| musste|wollte|sollte|durfte|mochte|\n",
    "|We| wir| konnte**n**| musste**n**|wollte**n**|sollte**n**|durfte**n**|mochte**n**|\n",
    "|You all| Ihr| konnte**t**| musste**t**|wollte**t**|sollte**t**|durfte**t**|mochte**t**|\n",
    "|They| sie| konnte**n**| musste**n**|wollte**n**|sollte**n**|durfte**n**|mochte**n**|\n",
    "|You (plural)| Sie| konnte**n**| musstte**n**|wolle**n**|sollte**n**|durfte**n**|mochte**n**|"
   ]
  },
  {
   "cell_type": "markdown",
   "metadata": {},
   "source": [
    "[Codes available from this site.](https://www.thoughtco.com/type-german-characters-on-keyboard-4090210)\n",
    "# &#228; &#0196; &#0246; &#0214;  &#252; &#0220; &#0223;\n",
    "\n",
    "|**Letter**|**code**|\n",
    "|:-:|:-:|\n",
    "|**&#0228;**|**&#0228**|\n",
    "|**&#0196;**|**&#0196**|\n",
    "|**&#0246;**|**&#0246**|\n",
    "|**&#0214;**|**&#0214**|\n",
    "|**&#0252;**|**&#0252**|\n",
    "|**&#0220;**|**&#0220**|\n",
    "|**&#0223;**|**&#0223**|"
   ]
  },
  {
   "cell_type": "markdown",
   "metadata": {},
   "source": [
    "<h2> Der Wichtigsten verben mit Pr&#0228;positionen</h2>"
   ]
  },
  {
   "cell_type": "markdown",
   "metadata": {},
   "source": [
    "|meaning|Verben|Pr&#0228;position| case|\n",
    "|:-:|:-:|:-:|:-:|\n",
    "|To respect <br> To regard |achten |auf| mit + Akkusativ|\n",
    "|To Answer<br>|antworten| auf| mit + Akkusativ|\n",
    "|To hope for|hoffen|auf<br>| mit + Akkusativ|\n",
    "|To be glad|sich freuen<br>|auf| mit + Akkusativ|\n",
    "|To concetrate|sich konzentrieren <br>|auf| mit + Akkusativ|\n",
    "|To prepare <br> To Arrange|sich vorbereiten <br>|auf| mit + Akkusativ|\n",
    "|To Quit <br> To Resign|verzichten <br>|auf| mit + Akkusativ|\n",
    "|To wait for|warten <br>|auf| mit + Akkusativ|\n",
    "|To complain|sich beshweren <br>|&#0252;ber |mit + Akkusativ|\n",
    "|To be glad|sich freuen <br>|&#0252;ber |mit + Akkusativ|\n",
    "|To talk|sprechen <br>|&#0252;ber |mit + Akkusativ|\n",
    "|To belive|glauben <br>|an |mit + Akkusativ|\n",
    "|To think|denken <br>|an |mit + Akkusativ|\n",
    "|To remember <br> To remind|sich erinnern <br>|an |mit + Akkusativ|\n",
    "|To write|schreiben <br>|an |mit + Akkusativ|\n",
    "|To participate <br> To enter|teilnehmen <br>|an |mit + Dativ|\n",
    "|To familiarise <br> To adapt|sich gew&#0246;hnen <br>|an |mit + Akkusativ|\n",
    "|To doubt|zweifeln <br>|an |mit + Dativ|\n",
    "|To be interested in|sich interessieren <br>|f&#0252;r |mit + Akkusativ|\n",
    "|To decide|sich entescheiden <br>|f&#0252;r |mit + Akkusativ|\n",
    "|To excuse|sich entschuldigen <br>|f&#0252;r |mit + Akkusativ|\n",
    "|To care <br> To worry <br> To look after|sorgen <br> |f&#0252;r |mit + Akkusativ|\n",
    "|To thank|danken  <br>|f&#0252;r |mit + Akkusativ|\n",
    "|To start <br> To begin|anfangen  <br>|mit |mit + Dativ|\n",
    "|To speak|sprechen  <br>|mit |mit + Dativ|\n",
    "|To argue <br> To fight <br> To quarrel|sich streiten  <br>|mit |mit + Dativ|\n",
    "|To tolerate <br>To agree <br> To get along|sich vertragen  <br>|mit |mit + Dativ|\n",
    "|To engage <br> To occupy <br> To keep onself busy|sich besch&#0228;ftigen  <br>|mit |mit + Dativ|\n",
    "|To depend <br> To hangout <br> To be relative to|abh&#0228;ngen  <br>|von |mit + Dativ|\n",
    "|To be scared <br> To be affraid of|Angst haben  <br>|vor |mit + Akkusativ|\n",
    "|To feared <br> To be affraid|sich f&#0252;rchten  <br>|vor |mit + Dativ|\n",
    "|To warn <br> To caution <br> To advice against|warnen  <br>|vor |mit + Dativ|\n",
    "|To protect|sch&#0252;tzen  <br>|vor |mit + Dativ|\n",
    "|To care about <br> To bother onself|sich k&#0252;mmern  <br>|um |mit + Akkusativ|\n",
    "|To request <br> To plead <br> To ask|bitten  <br>|um |mit + Akkusativ|\n",
    "|To invite|einladen  <br>|zu |mit + Dativ|\n"
   ]
  },
  {
   "cell_type": "code",
   "execution_count": null,
   "metadata": {},
   "outputs": [],
   "source": []
  }
 ],
 "metadata": {
  "kernelspec": {
   "display_name": "my_conda_3.7",
   "language": "python",
   "name": "my_conda_3.7"
  },
  "language_info": {
   "codemirror_mode": {
    "name": "ipython",
    "version": 3
   },
   "file_extension": ".py",
   "mimetype": "text/x-python",
   "name": "python",
   "nbconvert_exporter": "python",
   "pygments_lexer": "ipython3",
   "version": "3.7.3"
  }
 },
 "nbformat": 4,
 "nbformat_minor": 2
}
