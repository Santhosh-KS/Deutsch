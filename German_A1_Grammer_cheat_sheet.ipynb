{
 "cells": [
  {
   "cell_type": "markdown",
   "metadata": {},
   "source": [
    "## Bestimmt Artikel (Definate Article)\n",
    "\n",
    "|Type|Masculine|Feminine|Neutral|Plural|Shortcut|\n",
    "|:-:|:-:|:-:|:-:|:-:|:-:|\n",
    "|**Nominative** (Subject)|De**r**|Di**e**|Da**s**|Di**e**|**r.e.s.e**|\n",
    "|**Accusative** (Direct Object)|De**n**|Di**e**|Da**s**|Di**e**|**n.e.s.e**|\n",
    "|**Dative** (In-Direct Object)|De**m**|De**r**|De**m**|Den+**n**|**m.r.m.n**|\n",
    "|**Genitive** (Possession)|De**s**|De**r**|De**s**|De**r**|**s.r.s.r**|"
   ]
  },
  {
   "cell_type": "markdown",
   "metadata": {},
   "source": [
    "## Unbestimmt Artikel (Indefinate article)\n",
    "\n",
    "|Type|Masculine|Feminine|Neutral|Plural|\n",
    "|:-:|:-:|:-:|:-:|:-:|\n",
    "|**Nominative** (Subject)|ein|eine|ein|-|\n",
    "|**Accusative** (Direct Object)|einen|eine|ein|-|\n",
    "|**Dative** (In-Direct Object)|einem|einer|einem|-|\n",
    "|**Genitive** (Possession)|eines|einer|eines|-|\n",
    "\n",
    "\n",
    "\n",
    "|Type|Masculine|Feminine|Neutral|Plural|\n",
    "|:-:|:-:|:-:|:-:|:-:|\n",
    "|**Nominative** (Subject)|+|+e|+|-|\n",
    "|**Accusative** (Direct Object)|+en|+e|+|-|\n",
    "|**Dative** (In-Direct Object)|+em|+er|+em|-|\n",
    "|**Genitive** (Possession)|+es|+er|+es|-|"
   ]
  },
  {
   "cell_type": "markdown",
   "metadata": {},
   "source": [
    "## Negation Article.\n",
    "\n",
    "|Type|Masculine|Feminine|Neutral|Plural|\n",
    "|:-:|:-:|:-:|:-:|:-:|\n",
    "|**Nominative** (Subject)|kein|keine|kein|keine|\n",
    "|**Accusative** (Direct Object)|keinen|keine|kein|keine|\n",
    "|**Dative** (In-Direct Object)|keinem|keiner|keinem|keinen+n|\n",
    "|**Genitive** (Possession)|keines|keiner|keines|keiner|\n",
    "\n",
    "\n",
    "\n",
    "|Type|Masculine|Feminine|Neutral|Plural|\n",
    "|:-:|:-:|:-:|:-:|:-:|\n",
    "|**Nominative** (Subject)|+|+e|+|+e|\n",
    "|**Accusative** (Direct Object)|+en|+e|+|+e|\n",
    "|**Dative** (In-Direct Object)|+em|+er|+em|+en+n|m.r.m.n|\n",
    "|**Genitive** (Possession)|+es|+er|+es|+er|"
   ]
  },
  {
   "cell_type": "markdown",
   "metadata": {},
   "source": [
    "## Modal Verbs\n",
    "\n",
    "|English| Deutsch| Ends with| M$\\ddot{u}$ssen <br>  (Must)|M$\\ddot{u}$chten <br>(Would like)|K$\\ddot{o}$nnen <br> (Can)|Sollen <br> (Should)|Wollen <br> (Want)|D$\\ddot{u}$rfen <br> (May/Allow)| M$\\ddot{o}$gen <br> (Like)|\n",
    "|:-|:-|:-:|:-:|:-:| |:-:|:-:|:-:|:-:|:-:|:-:|\n",
    "|I| Ich| e| **Muss**| **Mochte**|**Kann**|**Soll**|**Will**|**Darf**|**Mag**|\n",
    "|You (singular)| du| st| **Musst**| **Mochtst**|**Kannst**|**Sollst**|**Willst**|**Darfst**|**Magst**|\n",
    "|He/She/It| er/sie/es| t| **Muss**| **Mochte**|**kann**|**Soll**|**Will**|**Darf**|**Mag**|\n",
    "|We| wir| en| M$\\ddot{u}$ssen | M$\\ddot{u}$chten| K$\\ddot{o}$nnen|Sollen|Wollen|D$\\ddot{u}$rfen| M$\\ddot{o}$gen|\n",
    "|You all| Ihr| t| M$\\ddot{u}$ss**t**| M$\\ddot{u}$cht**et**|K$\\ddot{o}$nn**t**|Soll**t**|Woll**t**|D$\\ddot{u}$rf**t**| M$\\ddot{o}$g**t**|\n",
    "|They| sie| en| M$\\ddot{u}$ssen| M$\\ddot{u}$chten|K$\\ddot{o}$nnen|Sollen|Wollen|D$\\ddot{u}$rfen| M$\\ddot{o}$gen|\n",
    "|You (plural)| Sie| en| M$\\ddot{u}$ssen|M$\\ddot{u}$chten|K$\\ddot{o}$nnen|Sollen|Wollen|D$\\ddot{u}$rfen| M$\\ddot{o}$gen|"
   ]
  },
  {
   "cell_type": "markdown",
   "metadata": {},
   "source": [
    "**Sein (to be) and haben (to have)**\n",
    "\n",
    "|English| Deutsch| Ends with| Sein | Haben|\n",
    "|:-|:-|:-:|:-:|:-:| |:-:|\n",
    "|I| Ich| e| bin <br>(am)| hab**e** <br>(have)|\n",
    "|You (singular)| du| st| bist<br> (are)| has**t** <br> (have)|\n",
    "|He/She/It| er/sie/es| t| ist <br>(is) | ha**t** <br> (has)|\n",
    "|We| wir| en| Sind <br>(are) | hab**en** <br>(have)|\n",
    "|You all| Ihr| t| Seid<br> (are) | hab**t** <br>(have)|\n",
    "|They| sie| en| Sind <br>(are) | hab**en** <br>(have)|\n",
    "|You (plural)| Sie| en| Sind <br> (are/is)| hab**en** <br>(have)|"
   ]
  },
  {
   "cell_type": "markdown",
   "metadata": {},
   "source": [
    "### Pr$\\ddot{a}$positions (Prepositions)\n",
    "\n",
    "|Akkusative <br>Pr$\\ddot{a}$positions| Dative <br>Pr$\\ddot{a}$positions|Wechseln <br>Pr$\\ddot{a}$positions|\n",
    "|:-:|:-:|:-:|\n",
    "|Druch <br> (Through)| Aus <br> (From)| An <br> (On,vertical)|\n",
    "|Ohne <br> (Without)|Au$\\beta$er <br>(Except)| In <br> (In)|\n",
    "|Gegen <br> (against/around)|Bei <br> (At/With)|Auf <br> (On,Horizontal)|\n",
    "|F$\\ddot{u}$r <br> (for)|Mit <br> (With)|Neben <br> (Near, Next to)|\n",
    "|Um <br> (at/untill)|Seit <br> (Since)|Vor <br> (In front)|\n",
    "|Bis <br>(till/untill)|nach <br> (After/To)|Hinter <br> (Behind)|\n",
    "|Entlang <br> (alongside)|Von <br> (Of/By/From)|Zwischen <br> (Between)|\n",
    "|-|Zu <br> (At/To)|$\\ddot{U}$ber <br> (Above/Over)|\n",
    "|-|Ab <br> (From)|Unter <br> (Under/Below|\n",
    "|-|Gegen$\\ddot{u}$ber <br> (opposite to)|-|\n"
   ]
  },
  {
   "cell_type": "markdown",
   "metadata": {},
   "source": [
    "### Pronouns\n",
    "\n",
    "|English| Accusative <br> Pronouns| Dativ <br> Pronouns|\n",
    "|:-:|:-:|:-:|\n",
    "|I|mich|mir|\n",
    "|You|dich|dir|\n",
    "|Him|ihn|ihm|\n",
    "|Her|sie|ihr|\n",
    "|Its|es|ihm|\n",
    "|Ours|uns|uns|\n",
    "|Yours|euch|euch|\n",
    "|Theirs|sie|Ihnen|\n",
    "|Yours|Sie|Ihnen|\n"
   ]
  },
  {
   "cell_type": "markdown",
   "metadata": {},
   "source": [
    "### Possessive articles:\n",
    "\n",
    "|English| article|\n",
    "|:-:|:-:|\n",
    "|Mine|mein|\n",
    "|Yours|dein|\n",
    "|His|sein|\n",
    "|Her's|ihr|\n",
    "|Its|sein|\n",
    "|Ours|unser|\n",
    "|Yours|euer|\n",
    "|Their's|ihr|\n",
    "|Yours|ihr|"
   ]
  },
  {
   "cell_type": "markdown",
   "metadata": {},
   "source": [
    "### mine\n",
    "\n",
    "|Type|Masculine|Feminine|Neutral|Plural|\n",
    "|:-:|:-:|:-:|:-:|:-:|\n",
    "|**Nominative** (Subject)|mein|meine|mein|meine|\n",
    "|**Accusative** (Direct Object)|meinen|meine|mein|meine|\n",
    "|**Dative** (In-Direct Object)|meinem|meiner|meinem|meinen+n|\n",
    "|**Genitive** (Possession)|meines|meiner|meines|meiner|"
   ]
  },
  {
   "cell_type": "markdown",
   "metadata": {},
   "source": [
    "### your's\n",
    "\n",
    "|Type|Masculine|Feminine|Neutral|Plural|\n",
    "|:-:|:-:|:-:|:-:|:-:|\n",
    "|**Nominative** (Subject)|dein|deine|dein|deine|\n",
    "|**Accusative** (Direct Object)|deinen|deine|dein|deine|\n",
    "|**Dative** (In-Direct Object)|deinem|deiner|deinem|deinen+n|\n",
    "|**Genitive** (Possession)|deines|deiner|deines|deiner|"
   ]
  },
  {
   "cell_type": "markdown",
   "metadata": {},
   "source": [
    "### it's / his\n",
    "\n",
    "|Type|Masculine|Feminine|Neutral|Plural|\n",
    "|:-:|:-:|:-:|:-:|:-:|\n",
    "|**Nominative** (Subject)|sein|seine|sein|seine|\n",
    "|**Accusative** (Direct Object)|seinen|seine|sein|seine|\n",
    "|**Dative** (In-Direct Object)|seinem|seiner|seinem|seinen+n|\n",
    "|**Genitive** (Possession)|seines|seiner|seines|seiner|"
   ]
  },
  {
   "cell_type": "markdown",
   "metadata": {},
   "source": [
    "### her's / their's / your's\n",
    "|Type|Masculine|Feminine|Neutral|Plural|\n",
    "|:-:|:-:|:-:|:-:|:-:|\n",
    "|**Nominative** (Subject)|ihr|ihre|ihr|ihre|\n",
    "|**Accusative** (Direct Object)|ihren|ihre|ihr|ihre|\n",
    "|**Dative** (In-Direct Object)|ihrem|ihrer|ihrem|ihren+n|\n",
    "|**Genitive** (Possession)|ihres|ihrer|ihres|ihrer|"
   ]
  },
  {
   "cell_type": "markdown",
   "metadata": {},
   "source": [
    "### Our's\n",
    "|Type|Masculine|Feminine|Neutral|Plural|\n",
    "|:-:|:-:|:-:|:-:|:-:|\n",
    "|**Nominative** (Subject)|unser|unsere|unser|unsere|\n",
    "|**Accusative** (Direct Object)|unseren|unsere|unser|unsere|\n",
    "|**Dative** (In-Direct Object)|unserem|unserer|unserem|unseren+n|\n",
    "|**Genitive** (Possession)|unseres|unserer|unseres|unserer|"
   ]
  },
  {
   "cell_type": "markdown",
   "metadata": {},
   "source": [
    "### Yours\n",
    "|Type|Masculine|Feminine|Neutral|Plural|\n",
    "|:-:|:-:|:-:|:-:|:-:|\n",
    "|**Nominative** (Subject)|euer|eu**re**|eu**re**|eu**re**|\n",
    "|**Accusative** (Direct Object)|eur**en**|eu**re**|euer|**eure**|\n",
    "|**Dative** (In-Direct Object)|eur**em**|eur**er**|eur**em**|eur**en+n**|\n",
    "|**Genitive** (Possession)|eur**es**|eur**er**|eur**es**|eur**er**|"
   ]
  },
  {
   "cell_type": "markdown",
   "metadata": {},
   "source": [
    "## Article identification table\n",
    "\n",
    "|Der|Die|Das|\n",
    "|:--:|:--:|:--:|\n",
    "|ant|e|chen|\n",
    "|ig|ei|lein|\n",
    "|ling|schaft|ment|\n",
    "|us|heit|nis|\n",
    "|er|keit|tum|\n",
    "|en|ung|um|\n",
    "|or|t$\\ddot a$t||\n",
    "|is|ik||\n",
    "|ismus|ion||\n",
    "||ur||\n",
    "||enz||"
   ]
  },
  {
   "cell_type": "markdown",
   "metadata": {},
   "source": [
    "## Der-words\n",
    "These words follows the **Der Table**\n",
    "\n",
    "|Deutsch| English|\n",
    "|:--:|:--:|\n",
    "|Welch|Which|\n",
    "|Jed|Each/Every|\n",
    "|Manch|Some|\n",
    "|Dies|This/That/These|\n",
    "|Solch|Such|"
   ]
  },
  {
   "cell_type": "markdown",
   "metadata": {},
   "source": [
    "|Type|Masculine|Feminine|Neutral|Plural|Shortcut|\n",
    "|:-:|:-:|:-:|:-:|:-:|:-:|\n",
    "|**Nominative** (Subject)|Jed**er**<br>(De**r**)|Jed**e**<br>(Di**e**)|Jed**es** <br>(Da**s**)|Jed**e**<br>(Di**e**)|**r.e.s.e**|\n",
    "|**Accusative** (Direct Object)|Jed**en**<br>(De**n**)|Jed**e**<br>(Di**e**)|Jed**es** <br> (Da**s**)|Jed**e**<br>(Di**e**)|**n.e.s.e**|\n",
    "|**Dative** (In-Direct Object)|Jed**em**<br>(De**m**)|Jed**er**<br>(De**r**)|Jed**em**<br>(De**m**)|Jed**en+n**<br>(Den+**n**)|**m.r.m.n**|\n",
    "|**Genitive** (Possession)|Jed**es**<br>(De**s**)|Jed**er**<br>(De**r**)|Jed**es**<br>(De**s**)|Jed**er**<br>(De**r**)|**s.r.s.r**|"
   ]
  },
  {
   "cell_type": "markdown",
   "metadata": {},
   "source": [
    "|Type|Masculine|Feminine|Neutral|Plural|Shortcut|\n",
    "|:-:|:-:|:-:|:-:|:-:|:-:|\n",
    "|**Nominative** (Subject)|Welch**er**<br>(De**r**)|Welch**e**<br>(Di**e**)|Welch**es** <br>(Da**s**)|Welch**e**<br>(Di**e**)|**r.e.s.e**|\n",
    "|**Accusative** (Direct Object)|Welch**en**<br>(De**n**)|Welch**e**<br>(Di**e**)|Welch**es** <br> (Da**s**)|Welch**e**<br>(Di**e**)|**n.e.s.e**|\n",
    "|**Dative** (In-Direct Object)|Welch**em**<br>(De**m**)|Welch**er**<br>(De**r**)|Welch**em**<br>(De**m**)|Welch**en+n**<br>(Den+**n**)|**m.r.m.n**|\n",
    "|**Genitive** (Possession)|Welch**es**<br>(De**s**)|Welch**er**<br>(De**r**)|Welch**es**<br>(De**s**)|Welch**er**<br>(De**r**)|**s.r.s.r**|"
   ]
  },
  {
   "cell_type": "markdown",
   "metadata": {},
   "source": [
    "|Type|Masculine|Feminine|Neutral|Plural|Shortcut|\n",
    "|:-:|:-:|:-:|:-:|:-:|:-:|\n",
    "|**Nominative** (Subject)|Manch**er**<br>(De**r**)|Manch**e**<br>(Di**e**)|Manch**es** <br>(Da**s**)|Manch**e**<br>(Di**e**)|**r.e.s.e**|\n",
    "|**Accusative** (Direct Object)|Manch**en**<br>(De**n**)|Manch**e**<br>(Di**e**)|Manch**es** <br> (Da**s**)|Manch**e**<br>(Di**e**)|**n.e.s.e**|\n",
    "|**Dative** (In-Direct Object)|Manch**em**<br>(De**m**)|Manch**er**<br>(De**r**)|Manch**em**<br>(De**m**)|Manch**en+n**<br>(Den+**n**)|**m.r.m.n**|\n",
    "|**Genitive** (Possession)|Manch**es**<br>(De**s**)|Manch**er**<br>(De**r**)|Manch**es**<br>(De**s**)|Manch**er**<br>(De**r**)|**s.r.s.r**|"
   ]
  },
  {
   "cell_type": "markdown",
   "metadata": {},
   "source": [
    "|Type|Masculine|Feminine|Neutral|Plural|Shortcut|\n",
    "|:-:|:-:|:-:|:-:|:-:|:-:|\n",
    "|**Nominative** (Subject)|Dies**er**<br>(De**r**)|Dies**e**<br>(Di**e**)|Dies**es** <br>(Da**s**)|Dies**e**<br>(Di**e**)|**r.e.s.e**|\n",
    "|**Accusative** (Direct Object)|Dies**en**<br>(De**n**)|Dies**e**<br>(Di**e**)|Dies**es** <br> (Da**s**)|Dies**e**<br>(Di**e**)|**n.e.s.e**|\n",
    "|**Dative** (In-Direct Object)|Dies**em**<br>(De**m**)|Dies**er**<br>(De**r**)|Dies**em**<br>(De**m**)|Dies**en+n**<br>(Den+**n**)|**m.r.m.n**|\n",
    "|**Genitive** (Possession)|Dies**es**<br>(De**s**)|Dies**er**<br>(De**r**)|Dies**es**<br>(De**s**)|Dies**er**<br>(De**r**)|**s.r.s.r**|"
   ]
  },
  {
   "cell_type": "markdown",
   "metadata": {},
   "source": [
    "|Type|Masculine|Feminine|Neutral|Plural|Shortcut|\n",
    "|:-:|:-:|:-:|:-:|:-:|:-:|\n",
    "|**Nominative** (Subject)|Solch**er**<br>(De**r**)|Solch**e**<br>(Di**e**)|Solch**es** <br>(Da**s**)|Solch**e**<br>(Di**e**)|**r.e.s.e**|\n",
    "|**Accusative** (Direct Object)|Solch**en**<br>(De**n**)|Solch**e**<br>(Di**e**)|Solch**es** <br> (Da**s**)|Solch**e**<br>(Di**e**)|**n.e.s.e**|\n",
    "|**Dative** (In-Direct Object)|Solch**em**<br>(De**m**)|Solch**er**<br>(De**r**)|Solch**em**<br>(De**m**)|Solch**en+n**<br>(Den+**n**)|**m.r.m.n**|\n",
    "|**Genitive** (Possession)|Solch**es**<br>(De**s**)|Solch**er**<br>(De**r**)|Solch**es**<br>(De**s**)|Solch**er**<br>(De**r**)|**s.r.s.r**|"
   ]
  },
  {
   "cell_type": "markdown",
   "metadata": {},
   "source": [
    "## Adjektivendungen mit dem bestimmiten Artikel\n",
    "\n",
    "|Type|Masculine|Feminine|Neutral|Plural|\n",
    "|:-:|:-:|:-:|:-:|:-:|\n",
    "|**Nominative** (Subject)|e|e|e|en|\n",
    "|**Accusative** (Direct Object)|en|e|e|en|\n",
    "|**Dative** (In-Direct Object)|en|en|en|en|\n",
    "|**Genitive** (Possession)|en|en|en|en|"
   ]
  },
  {
   "cell_type": "markdown",
   "metadata": {},
   "source": [
    "## Adjektivendungen mit dem unbestimmiten Artikel \"ein\"\n",
    "\n",
    "|Type|Masculine|Feminine|Neutral|Plural|\n",
    "|:-:|:-:|:-:|:-:|:-:|\n",
    "|**Nominative** (Subject)|er|e|es|e|\n",
    "|**Accusative** (Direct Object)|en|e|es|e|\n",
    "|**Dative** (In-Direct Object)|en|en|en|en|\n",
    "|**Genitive** (Possession)|en|en|en|er|"
   ]
  },
  {
   "cell_type": "markdown",
   "metadata": {},
   "source": [
    "## Adjektivendungen ohne Artikel \n",
    "\n",
    "|Type|Masculine|Feminine|Neutral|Plural|\n",
    "|:-:|:-:|:-:|:-:|:-:|\n",
    "|**Nominative** (Subject)|er|e|es|e|\n",
    "|**Accusative** (Direct Object)|en|e|es|e|\n",
    "|**Dative** (In-Direct Object)|em|er|em|en|\n",
    "|**Genitive** (Possession)|en|er|en|er|"
   ]
  },
  {
   "cell_type": "markdown",
   "metadata": {},
   "source": [
    "## Präteritum (Past tense for sein and haben)\n",
    "\n",
    "|English| Deutsch| Sein | Haben|\n",
    "|:-|:-|:-:|:-:|:-:|\n",
    "|I| Ich| war <br>(was)| hatte <br>(had)|\n",
    "|You (singular)| du| warst<br> (were)| hatte**st** <br> (had)|\n",
    "|He/She/It| er/sie/es|war <br>(was) | hatt**e** <br> (had)|\n",
    "|We| wir| waren <br>(were) | hatte**n** <br>(had)|\n",
    "|You all| Ihr| wart <br> (were) | hatte**t** <br>(had)|\n",
    "|They| sie| waren <br>(were) | hatte**n** <br>(had)|\n",
    "|You (plural)| Sie| waren <br> (was/were)| hatte**n** <br>(had)|"
   ]
  },
  {
   "cell_type": "markdown",
   "metadata": {},
   "source": [
    "## Präteritum (Past tense for modal verbs)\n",
    "\n",
    "|English| Deutsch| K$\\ddot{o}$nnen <br> (can)| M$\\ddot{u}ssen$ <br> (must)|Wollen <br>(want)|Sollen <br> (Should)| D$\\ddot{u}rfen$ <br> (May/Allow)| m$\\ddot{o}gen$ <br> ( to like)|\n",
    "|:-|:-|:-:|:-:|:-:|:-:|:-:|:-:|:-:|\n",
    "|I| Ich| konne| musste|wolle|sollte|durfte| mochte |\n",
    "|You (singular)| du| konne**st**| musste**st**|wolle**st**|sollte**st**|durfte**st**|mochtest|\n",
    "|He/She/It| er/sie/es|konne| musste|wolle|sollte|durfte|mochte|\n",
    "|We| wir| konne**n**| musste**n**|wolle**n**|sollte**n**|durfte**n**|mochten|\n",
    "|You all| Ihr| konne**t**| musste**t**|wolle**t**|sollte**t**|durfte**t**|mochte|\n",
    "|They| sie| konne**n**| musste**n**|wolle**n**|sollte**n**|durfte**n**|mochten|\n",
    "|You (plural)| Sie| konne**n**| musste**n**|wolle**n**|sollte**n**|durfte**n**|mochten|"
   ]
  }
 ],
 "metadata": {
  "kernelspec": {
   "display_name": "py37_django",
   "language": "python",
   "name": "py37_django"
  },
  "language_info": {
   "codemirror_mode": {
    "name": "ipython",
    "version": 3
   },
   "file_extension": ".py",
   "mimetype": "text/x-python",
   "name": "python",
   "nbconvert_exporter": "python",
   "pygments_lexer": "ipython3",
   "version": "3.7.1"
  }
 },
 "nbformat": 4,
 "nbformat_minor": 2
}
