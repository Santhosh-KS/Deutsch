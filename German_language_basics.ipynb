{
 "cells": [
  {
   "cell_type": "code",
   "execution_count": 2,
   "metadata": {},
   "outputs": [
    {
     "data": {
      "text/html": [
       "<style>\n",
       "table {float:left}\n",
       "</style>"
      ],
      "text/plain": [
       "<IPython.core.display.HTML object>"
      ]
     },
     "metadata": {},
     "output_type": "display_data"
    }
   ],
   "source": [
    "%%html\n",
    "<style>\n",
    "table {float:left}\n",
    "font:size \n",
    "</style>"
   ]
  },
  {
   "cell_type": "markdown",
   "metadata": {},
   "source": [
    "# Basics of German grammer"
   ]
  },
  {
   "cell_type": "markdown",
   "metadata": {},
   "source": [
    "### General conversion table\n",
    "\n",
    "|Actual| Becomes|\n",
    "|:-:|:-:|\n",
    "|ie|e|\n",
    "|ei|i|\n",
    "|eu|oi|\n",
    "|ig|ish|\n",
    "|e (at the end of word)| ah|"
   ]
  },
  {
   "cell_type": "markdown",
   "metadata": {},
   "source": [
    "###  W - Fragen  \n",
    "   \n",
    "|English| Deutsch| sounds like|\n",
    "|:-|:-|:-:|\n",
    "|Why|warum| Varuhm|\n",
    "|What| was | vass|\n",
    "|Where| wo| voh|\n",
    "|When| wann| Vann|\n",
    "|Whom| wem/wen| Vaame/Vaane|\n",
    "|Which| welche| Velsha|\n",
    "|Whose| wessen| vessen|\n",
    "|Who|wer| ver|\n",
    "|How| wei| we|"
   ]
  },
  {
   "cell_type": "markdown",
   "metadata": {},
   "source": [
    "### General How questions\n",
    "|English| Deutsch| sounds like|\n",
    "|:-:|:-|:-:|\n",
    "|How come?| Wei so| we so|\n",
    "|How much?| Wei viel| we feel|\n",
    "|How long?| Wei lange| we laangah|\n"
   ]
  },
  {
   "cell_type": "markdown",
   "metadata": {},
   "source": [
    "### General Where questions\n",
    "|English| Deutsch| sounds like|\n",
    "|:-:|:-|:-:|\n",
    "|Where from?| Woher| woh her|\n",
    "|Where to?| Wohin| woh hin|"
   ]
  },
  {
   "cell_type": "markdown",
   "metadata": {},
   "source": [
    "### Verb Conjugation\n",
    "**Regular Verb -> gehen (to go)**\n",
    "Stem of the verb is **geh**\n",
    "\n",
    "**Irregular verb -> Sprechen (speak)**\n",
    "Stem of the verb is **Sprech**\n",
    "\n",
    "|English| Deutsch| Ends with| Regular verb Example| Irregular verb Example|\n",
    "|:-|:-|:-:|:-:|:-:| |:-:|\n",
    "|I| Ich| e| geh**e**| sprech**e**|\n",
    "|You (singular)| du| st| geh**st**| sprich**st**|\n",
    "|He/She/It| er/sie/es| t| geh**t**| sprich**t**|\n",
    "|We| wir| en| geh**en** | Sprech**en**|\n",
    "|You all| Ihr| t| geh**t**| sprech**t**|\n",
    "|They| sie| en| geh**en**| Sprech**en**|\n",
    "|You (plural)| Sie| en| geh**en**|Sprech**en**|"
   ]
  },
  {
   "cell_type": "markdown",
   "metadata": {},
   "source": [
    "**Note:**\n",
    "- Verb is always at the 2nd place in the sentence\n",
    "- Irregular verbs spelling of stem of the verb changes only with $\\large du$ and $\\large er/sie/es$"
   ]
  },
  {
   "cell_type": "markdown",
   "metadata": {},
   "source": [
    "### Nouns\n",
    "\n",
    "|Type| Aticle (the)| Example |\n",
    "|:-:|:-:||:-:|\n",
    "|Masculine| Der| der Mann|\n",
    "|Feminine| Die| die Frau|\n",
    "|Neutral| Das| das Auto|"
   ]
  },
  {
   "cell_type": "markdown",
   "metadata": {},
   "source": [
    "### Bestimm Artikel (Definate Article)\n",
    "<!--\n",
    "|Type|Masculine|Feminie|Neutral|Plural|Shortcut|\n",
    "|:-:|:-:|:-:|:-:|:-:|:-:|\n",
    "|**Nominative** (Subject)||||||\n",
    "|**accusative** (Direct Object)||||||\n",
    "|**dative** (In-Direct Object)||||||\n",
    "|**genitive** (Possession)||||||\n",
    "-->"
   ]
  },
  {
   "cell_type": "markdown",
   "metadata": {},
   "source": [
    "|Type|Masculine|Feminine|Neutral|Plural|Shortcut|\n",
    "|:-:|:-:|:-:|:-:|:-:|:-:|\n",
    "|**Nominative** (Subject)|De**r**|Di**e**|Da**s**|Di**e**|**r.e.s.e**|\n",
    "|**accusative** (Direct Object)|De**n**|Di**e**|Da**s**|Di**e**|**n.e.s.e**|\n",
    "|**dative** (In-Direct Object)|De**m**|De**r**|De**m**|Den+**n**|**m.r.m.n**|\n",
    "|**genitive** (Possession)|De**s**|De**r**|De**s**|De**r**|**s.r.s.r**|"
   ]
  },
  {
   "cell_type": "markdown",
   "metadata": {},
   "source": [
    "**Sein (to be) and haben (to have)**\n",
    "\n",
    "|English| Deutsch| Ends with| Sein | Haben|\n",
    "|:-|:-|:-:|:-:|:-:| |:-:|\n",
    "|I| Ich| e| bin (am)| hab**e** (have)|\n",
    "|You (singular)| du| st| bist (are)| has**t** (have)|\n",
    "|He/She/It| er/sie/es| t| ist (is) | ha**t** (has)|\n",
    "|We| wir| en| Sind (are) | hab**en** (have)|\n",
    "|You all| Ihr| t| Seid (are) | hab**t** (have)|\n",
    "|They| sie| en| Sind (are) | hab**en** (have)|\n",
    "|You (plural)| Sie| en| Sind (are/is)| hab**en** (have)|"
   ]
  },
  {
   "cell_type": "markdown",
   "metadata": {},
   "source": [
    "### Examples:\n",
    "\n",
    "#### Norminative:\n",
    "<!--\n",
    "|Type| Example| In English|\n",
    "|:-:|:-:|:-:|\n",
    "|Masculine|||\n",
    "|Feminine|||\n",
    "|Netural|||\n",
    "|Plural||| -->\n",
    "\n",
    "|Type| Example| In English |\n",
    "|:-:|:-:|:-:|\n",
    "|Masculine|Der Mann ist gro$\\beta$| Man is huge/tall.|\n",
    "|Feminine|Die Frau ist $h\\ddot{u}bsch$| Woman is pretty.|\n",
    "|Netural| Das kind ist klug| Kid is clever|\n",
    "|Plural| Die kinder Sind klug| Kids are clever|"
   ]
  },
  {
   "cell_type": "markdown",
   "metadata": {},
   "source": [
    "#### Accusative:\n",
    "|Type| Example| In English|\n",
    "|:-:|:-:|:-:|\n",
    "|Masculine| Ich seh**e** de**n** Mann | **I** see the man|\n",
    "|Feminine| Ich seh**e** di**e** Frau| **I** see the woman|\n",
    "|Netural| Ich sehe da**s** kind| **I** see the kid|\n",
    "|Plural| Ich sehe di**e** kinder| **I** see the kids|"
   ]
  },
  {
   "cell_type": "markdown",
   "metadata": {},
   "source": [
    "### Dative\n",
    "|Type| Example| In English|\n",
    "|:-:|:-:|:-:|\n",
    "|Masculine|Ich gebe dem Mann das Auto| I gave bike to the man|\n",
    "|Feminine|Ich schenke der Frau den Ring.| I gave ring to the woman|\n",
    "|Netural|Ich gebe dem kind die schokolade|I gave chocolate to the kid|\n",
    "|Plural|Ich gebe den kindern die schokolade|I gave chocolate to the kids| "
   ]
  },
  {
   "cell_type": "code",
   "execution_count": null,
   "metadata": {},
   "outputs": [],
   "source": []
  }
 ],
 "metadata": {
  "kernelspec": {
   "display_name": "py37_django",
   "language": "python",
   "name": "py37_django"
  },
  "language_info": {
   "codemirror_mode": {
    "name": "ipython",
    "version": 3
   },
   "file_extension": ".py",
   "mimetype": "text/x-python",
   "name": "python",
   "nbconvert_exporter": "python",
   "pygments_lexer": "ipython3",
   "version": "3.7.1"
  }
 },
 "nbformat": 4,
 "nbformat_minor": 2
}
