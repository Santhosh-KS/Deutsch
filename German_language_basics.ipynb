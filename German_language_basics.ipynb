{
 "cells": [
  {
   "cell_type": "code",
   "execution_count": 1,
   "metadata": {},
   "outputs": [
    {
     "data": {
      "text/html": [
       "<style>\n",
       "table {float:left}\n",
       "font:size \n",
       "</style>"
      ],
      "text/plain": [
       "<IPython.core.display.HTML object>"
      ]
     },
     "metadata": {},
     "output_type": "display_data"
    }
   ],
   "source": [
    "%%html\n",
    "<style>\n",
    "table {float:left}\n",
    "font:size \n",
    "</style>"
   ]
  },
  {
   "cell_type": "markdown",
   "metadata": {},
   "source": [
    "# &#228; &#0196; &#0246; &#0214;  &#252; &#0220; &#0223;\n",
    "\n",
    "|**Letter**|**code**|\n",
    "|:-:|:-:|\n",
    "|**&#0228;**|**&#0228**|\n",
    "|**&#0196;**|**&#0196**|\n",
    "|**&#0246;**|**&#0246**|\n",
    "|**&#0214;**|**&#0214**|\n",
    "|**&#0252;**|**&#0252**|\n",
    "|**&#0220;**|**&#0220**|\n",
    "|**&#0223;**|**&#0223**|"
   ]
  },
  {
   "cell_type": "markdown",
   "metadata": {},
   "source": [
    "# Basics of German grammer"
   ]
  },
  {
   "cell_type": "markdown",
   "metadata": {},
   "source": [
    "### General conversion table\n",
    "\n",
    "|Actual| Becomes|\n",
    "|:-:|:-:|\n",
    "|ie|e|\n",
    "|ei|i|\n",
    "|eu|oi|\n",
    "|ig|ish|\n",
    "|e (at the end of word)| ah|"
   ]
  },
  {
   "cell_type": "markdown",
   "metadata": {},
   "source": [
    "###  W - Fragen   (W- Questions)\n",
    "   \n",
    "|English| Deutsch| sounds like|\n",
    "|:-|:-|:-:|\n",
    "|Why|warum| Varuhm|\n",
    "|What| was | Vass|\n",
    "|Where| wo| Voh|\n",
    "|When| wann| Vann|\n",
    "|Whom| wem/wen| Veim/Vein|\n",
    "|Which| welche| Velsha|\n",
    "|Whose| wessen| Vessen|\n",
    "|Who|wer| Var|\n",
    "|How| wei| We|"
   ]
  },
  {
   "cell_type": "markdown",
   "metadata": {},
   "source": [
    "### General How questions\n",
    "|English| Deutsch| sounds like|\n",
    "|:-:|:-|:-:|\n",
    "|How come?| Wei so| we so|\n",
    "|How much?| Wei viel| we feel|\n",
    "|How long?| Wei lange| we laangah|\n"
   ]
  },
  {
   "cell_type": "markdown",
   "metadata": {},
   "source": [
    "### General Where questions\n",
    "|English| Deutsch| sounds like|\n",
    "|:-:|:-|:-:|\n",
    "|Where from?| Woher| woh her|\n",
    "|Where to?| Wohin| woh hin|"
   ]
  },
  {
   "cell_type": "markdown",
   "metadata": {},
   "source": [
    "### Verb Conjugation\n",
    "**Regular Verb -> gehen (to go)**\n",
    "Stem of the verb is **geh**\n",
    "\n",
    "**Irregular verb -> Sprechen (speak)**\n",
    "Stem of the verb is **Sprech**\n",
    "\n",
    "|English| Deutsch| Ends with| Regular verb Example| Irregular verb Example|\n",
    "|:-|:-|:-:|:-:|:-:|\n",
    "|I| Ich| e| geh**e**| sprech**e**|\n",
    "|You (singular)| du| st| geh**st**| sprich**st**|\n",
    "|He/She/It| er/sie/es| t| geh**t**| sprich**t**|\n",
    "|We| wir| en| geh**en** | Sprech**en**|\n",
    "|You all| Ihr| t| geh**t**| sprech**t**|\n",
    "|They| sie| en| geh**en**| Sprech**en**|\n",
    "|You (plural)| Sie| en| geh**en**|Sprech**en**|"
   ]
  },
  {
   "cell_type": "markdown",
   "metadata": {},
   "source": [
    "**Note:**\n",
    "- For **W-Fragen**, verb is always at the 2nd place in the sentence\n",
    "- Irregular verbs spelling of stem of the verb changes only with $\\large du$ and $\\large er/sie/es$"
   ]
  },
  {
   "cell_type": "markdown",
   "metadata": {},
   "source": [
    "### Nouns\n",
    "\n",
    "|Type| Aticle (the)| Example |\n",
    "|:-:|:-:|:-:|\n",
    "|Masculine| Der| der Mann|\n",
    "|Feminine| Die| die Frau|\n",
    "|Neutral| Das| das Auto|"
   ]
  },
  {
   "cell_type": "markdown",
   "metadata": {},
   "source": [
    "### Bestimmt Artikel (Definate Article)\n",
    "<!--\n",
    "|Type|Masculine|Feminie|Neutral|Plural|Shortcut|\n",
    "|:-:|:-:|:-:|:-:|:-:|:-:|\n",
    "|**Nominative** (Subject)||||||\n",
    "|**accusative** (Direct Object)||||||\n",
    "|**dative** (In-Direct Object)||||||\n",
    "|**genitive** (Possession)||||||\n",
    "-->"
   ]
  },
  {
   "cell_type": "markdown",
   "metadata": {},
   "source": [
    "|Type|Masculine|Feminine|Neutral|Plural|Shortcut|\n",
    "|:-:|:-:|:-:|:-:|:-:|:-:|\n",
    "|**Nominative** (Subject)|De**r**|Di**e**|Da**s**|Di**e**|**r.e.s.e**|\n",
    "|**Accusative** (Direct Object)|De**n**|Di**e**|Da**s**|Di**e**|**n.e.s.e**|\n",
    "|**Dative** (In-Direct Object)|De**m**|De**r**|De**m**|Den+**n**|**m.r.m.n**|\n",
    "|**Genitive** (Possession)|De**s**|De**r**|De**s**|De**r**|**s.r.s.r**|"
   ]
  },
  {
   "cell_type": "markdown",
   "metadata": {},
   "source": [
    "**Sein (to be) and haben (to have)**\n",
    "\n",
    "|English| Deutsch| Ends with| Sein | Haben|\n",
    "|:-|:-|:-:|:-:|:-:|\n",
    "|I| Ich| e| bin <br>(am)| hab**e** <br>(have)|\n",
    "|You (singular)| du| st| bist<br> (are)| has**t** <br> (have)|\n",
    "|He/She/It| er/sie/es| t| ist <br>(is) | ha**t** <br> (has)|\n",
    "|We| wir| en| Sind <br>(are) | hab**en** <br>(have)|\n",
    "|You all| Ihr| t| Seid<br> (are) | hab**t** <br>(have)|\n",
    "|They| sie| en| Sind <br>(are) | hab**en** <br>(have)|\n",
    "|You (plural)| Sie| en| Sind <br> (are/is)| hab**en** <br>(have)|"
   ]
  },
  {
   "cell_type": "markdown",
   "metadata": {},
   "source": [
    "## Präteritum (Past tense for sein and haben)\n",
    "\n",
    "|English| Deutsch| Sein | Haben|\n",
    "|:-|:-|:-:|:-:|\n",
    "|I| Ich| war <br>(was)| hatte <br>(had)|\n",
    "|You (singular)| du| war**st**<br> (were)| hatte**st** <br> (had)|\n",
    "|He/She/It| er/sie/es|war <br>(was) | hatt**e** <br> (had)|\n",
    "|We| wir| war**en** <br>(were) | hatte**n** <br>(had)|\n",
    "|You all| Ihr| war**t** <br> (were) | hatte**t** <br>(had)|\n",
    "|They| sie| war**en** <br>(were) | hatte**n** <br>(had)|\n",
    "|You (plural)| Sie| war**en** <br> (was/were)| hatte**n** <br>(had)|"
   ]
  },
  {
   "cell_type": "markdown",
   "metadata": {},
   "source": [
    "## Präteritum (Past tense for modal verbs)\n",
    "\n",
    "|English| Deutsch| K$\\ddot{o}$nnen <br> (can)| M$\\ddot{u}ssen$ <br> (must)|Wollen <br>(want)|Sollen <br> (Should)| D$\\ddot{u}rfen$ <br> (May/Allow)| m$\\ddot{o}gen$ <br> ( to like)|\n",
    "|:-|:-|:-:|:-:|:-:|:-:|:-:|:-:|\n",
    "|I| Ich| konnte| musste|wollte|sollte|durfte| mochte |\n",
    "|You (singular)| du| konnte**st**| musste**st**|wollte**st**|sollte**st**|durfte**st**|mochte**st**|\n",
    "|He/She/It| er/sie/es|konnte| musste|wollte|sollte|durfte|mochte|\n",
    "|We| wir| konnte**n**| musste**n**|wollte**n**|sollte**n**|durfte**n**|mochte**n**|\n",
    "|You all| Ihr| konnte**t**| musste**t**|wollte**t**|sollte**t**|durfte**t**|mochte**t**|\n",
    "|They| sie| konnte**n**| musste**n**|wollte**n**|sollte**n**|durfte**n**|mochte**n**|\n",
    "|You (plural)| Sie| konnte**n**| musstte**n**|wolle**n**|sollte**n**|durfte**n**|mochte**n**|"
   ]
  },
  {
   "cell_type": "markdown",
   "metadata": {},
   "source": [
    "### Examples:\n",
    "\n",
    "#### Norminative:\n",
    "<!--\n",
    "|Type| Example| In English|\n",
    "|:-:|:-:|:-:|\n",
    "|Masculine|||\n",
    "|Feminine|||\n",
    "|Netural|||\n",
    "|Plural||| -->\n",
    "\n",
    "|Type| Example| In English |\n",
    "|:-:|:-:|:-:|\n",
    "|Masculine|Der Mann ist gro$\\beta$| Man is huge/tall.|\n",
    "|Feminine|Die Frau ist $h\\ddot{u}bsch$| Woman is pretty.|\n",
    "|Netural| Das kind ist klug| Kid is clever|\n",
    "|Plural| Die kinder Sind klug| Kids are clever|"
   ]
  },
  {
   "cell_type": "markdown",
   "metadata": {},
   "source": [
    "#### Accusative:\n",
    "|Type| Example| In English|\n",
    "|:-:|:-:|:-:|\n",
    "|Masculine| Ich seh**e** de**n** Mann | **I** see the man|\n",
    "|Feminine| Ich seh**e** di**e** Frau| **I** see the woman|\n",
    "|Netural| Ich sehe da**s** kind| **I** see the kid|\n",
    "|Plural| Ich sehe di**e** kinder| **I** see the kids|"
   ]
  },
  {
   "cell_type": "markdown",
   "metadata": {},
   "source": [
    "### Dative\n",
    "|Type| Example| In English|\n",
    "|:-:|:-:|:-:|\n",
    "|Masculine|Ich gebe dem Mann das Auto| I give bike to the man|\n",
    "|Feminine|Ich schenke der Frau den Ring.| I give ring to the woman|\n",
    "|Netural|Ich gebe dem kind die schokolade|I give chocolate to the kid|\n",
    "|Plural|Ich gebe den kindern die schokolade|I give chocolate to the kids| "
   ]
  },
  {
   "cell_type": "markdown",
   "metadata": {},
   "source": [
    "## Unbestimmt Artikel (Indefinate article)\n",
    "\n",
    "**ein  -> a**  \n",
    "  \n",
    "**eine -> an**\n",
    "\n",
    "|Type|Masculine|Feminine|Neutral|Plural|\n",
    "|:-:|:-:|:-:|:-:|:-:|\n",
    "|**Nominative** (Subject)|ein|eine|ein|-|\n",
    "|**Accusative** (Direct Object)|einen|eine|ein|-|\n",
    "|**Dative** (In-Direct Object)|einem|einer|einem|-|\n",
    "|**Genitive** (Possession)|eines|einer|eines|-|"
   ]
  },
  {
   "cell_type": "markdown",
   "metadata": {},
   "source": [
    "|Type|Masculine|Feminine|Neutral|Plural|\n",
    "|:-:|:-:|:-:|:-:|:-:|\n",
    "|**Nominative** (Subject)|+|+e|+|-|\n",
    "|**Accusative** (Direct Object)|+en|+e|+|-|\n",
    "|**Dative** (In-Direct Object)|+em|+er|+em|-|\n",
    "|**Genitive** (Possession)|+es|+er|+es|-|"
   ]
  },
  {
   "cell_type": "markdown",
   "metadata": {},
   "source": [
    "## Negation Article.\n",
    "\n",
    "|Type|Masculine|Feminine|Neutral|Plural|\n",
    "|:-:|:-:|:-:|:-:|:-:|\n",
    "|**Nominative** (Subject)|kein|keine|kein|keine|\n",
    "|**Accusative** (Direct Object)|keinen|keine|kein|keine|\n",
    "|**Dative** (In-Direct Object)|keinem|keiner|keinem|keinen+n|\n",
    "|**Genitive** (Possession)|keines|keiner|keines|keiner|"
   ]
  },
  {
   "cell_type": "markdown",
   "metadata": {},
   "source": [
    "|Type|Masculine|Feminine|Neutral|Plural|\n",
    "|:-:|:-:|:-:|:-:|:-:|\n",
    "|**Nominative** (Subject)|+|+e|+|+e|\n",
    "|**Accusative** (Direct Object)|+en|+e|+|+e|\n",
    "|**Dative** (In-Direct Object)|+em|+er|+em|+en+n|m.r.m.n|\n",
    "|**Genitive** (Possession)|+es|+er|+es|+er|"
   ]
  },
  {
   "cell_type": "markdown",
   "metadata": {},
   "source": [
    "|Language|Sentence|\n",
    "|:-:|:-:|\n",
    "|Deutsch| Ein Mann ist hier.|\n",
    "|English| A man is here.|\n",
    "|Deutsch|Eine Frau ist hier.|\n",
    "|English| A woman is here.|"
   ]
  },
  {
   "cell_type": "markdown",
   "metadata": {},
   "source": [
    "## Wichtige verben\n",
    "\n",
    "\n",
    "|English| Deutsch| Ends with| Kommen <br> (to come) | finden <br> (to find)| brauchen <br> (to need)| kaufen <br> (to buy)|nehmen <br>(to take) |machen <br> (to make)|kochen <br> (to cook)|\n",
    "|:-|:-|:-:|:-:|:-:|:-:|:-:|:-:|:-:|:-:|\n",
    "|I| Ich| e| komm**e**| find**e**| brauch**e**| kauf**e**| nehm**e**| mach**e**| koch**e**|\n",
    "|You (singular)| du| st| komme**st**| finde**st**| brauch**st**|kauf**st**|nehm**st**|mach**st**|koch**st**|\n",
    "|He/She/It| er/sie/es| t| komm**t**| finde**t**| brauch**t**|kauf**t**|nehm**t**|mach**t**|koch**t**|\n",
    "|We| wir| en| komm**en**| find**en**| brauch**en**|kauf**en**|nehm**en**|mach**en**|koch**en**|\n",
    "|You all| Ihr| t|  komm**t**|finde**t**|brauch**t**|kauf**t**|nehm**t**|mach**t**|koch**t**|\n",
    "|They| sie| en| komm**en**| find**en**| brauch**en**|kauf**en**|nehm**en**|mach**en**|koch**en**|\n",
    "|You (plural)| Sie| en| komm**en**| find**en**|brauch**em**|kauf**en**|nehm**en**|mach**en**|koch**en**|"
   ]
  },
  {
   "cell_type": "markdown",
   "metadata": {},
   "source": [
    "## Wichtige verben\n",
    "\n",
    "|English| Deutsch| Ends with| arbeiten <br> (to work) | fahren <br> (to drive)|gehen <br> (to go)|lesen <br> (to read)|wohnen <br> (to stay)|hei$\\beta$en <br> (to be called)| sprechen <br> (to speak)| spielen <br> (to play)|essen <br> (to eat)|\n",
    "|:-|:-|:-:|:-:|:-:|:-:|:-:|:-:|:-:|:-:|:-:|:-:|\n",
    "|I| Ich| e| arbeit**e**| **fahr**| geh**e**| les**e**| wohn**e**|hei$\\beta$**e**| sprech**e**| spiel**e**|ess**e**|\n",
    "|You (singular)| du| st| arbite**st**|**f$\\ddot{a}$hrst**|geh**st**|**liest**|wohn**st**|hei$\\beta$**t**|sprich**st**|spiel**st**| **isst**|\n",
    "|He/She/It| er/sie/es| t| arbiete**t**|**f$\\ddot{a}$hrt**|geh**t**|**liest**|wohn**t**|hei$\\beta$**t**|sprich**t**|spiel**t**| **isst**|\n",
    "|We| wir| en| arbiet**en**| fahr**en**|geh**en**|les**en**|wohn**en**|hei$\\beta$**en**| sprech**en**|spiel**en**| ess**en**|\n",
    "|You all| Ihr| t| arbiete**t**|fahr**t**|geh**t**| les**t**|wohn**t**|hei$\\beta$**t**| sprich**t**|spiel**t**| ess**t**|\n",
    "|They| sie| en| arbit**en**|fahr**en**| geh**en**| les**en**|wohn**en**|hei$\\beta$**en**|sprech**en**|spiel**en**|ess**en**|\n",
    "|You (plural)| Sie| en|arbit**en**| fahr**en**|geh**en**|les**en**|wohn**en**|hei$\\beta$**en**|sprech**en**|spiel**en**|ess**en**|"
   ]
  },
  {
   "cell_type": "markdown",
   "metadata": {},
   "source": [
    "## Modal Verbs\n",
    "\n",
    "|English| Deutsch| Ends with| M$\\ddot{u}$ssen <br>  (Must)|M$\\ddot{o}$chten <br>(Would like)|K$\\ddot{o}$nnen <br> (Can)|Sollen <br> (Should)|Wollen <br> (Want)|D$\\ddot{u}$rfen <br> (May/Allow)| M$\\ddot{o}$gen <br> (Like)|\n",
    "|:-|:-|:-:|:-:|:-:|:-:|:-:|:-:|:-:|:-:|\n",
    "|I| Ich| e| **Muss**| M$\\ddot{o}$chte |**Kann**|**Soll**|**Will**|**Darf**|**Mag**|\n",
    "|You (singular)| du| st| **Musst**| M$\\ddot{o}$chtest |**Kannst**|**Sollst**|**Willst**|**Darfst**|**Magst**|\n",
    "|He/She/It| er/sie/es| t| **Muss**| M$\\ddot{o}$chte |**kann**|**Soll**|**Will**|**Darf**|**Mag**|\n",
    "|We| wir| en| M$\\ddot{u}$ssen | M$\\ddot{o}$chten | K$\\ddot{o}$nnen|Sollen|Wollen|D$\\ddot{u}$rfen| M$\\ddot{o}$gen|\n",
    "|You all| Ihr| t| M$\\ddot{u}$ss**t**| M$\\ddot{o}$chtet |K$\\ddot{o}$nn**t**|Soll**t**|Woll**t**|D$\\ddot{u}$rf**t**| M$\\ddot{o}$g**t**|\n",
    "|They| sie| en| M$\\ddot{u}$ssen| M$\\ddot{o}$chten |K$\\ddot{o}$nnen|Sollen|Wollen|D$\\ddot{u}$rfen| M$\\ddot{o}$gen|\n",
    "|You (plural)| Sie| en| M$\\ddot{u}$ssen|M$\\ddot{o}$chten |K$\\ddot{o}$nnen|Sollen|Wollen|D$\\ddot{u}$rfen| M$\\ddot{o}$gen|"
   ]
  },
  {
   "cell_type": "markdown",
   "metadata": {},
   "source": [
    "**Note:**  \n",
    "\n",
    "- Modal verbs always occupy the 2nd place in the sentence.\n",
    "- Modal verbs are superior to other verbs.\n",
    "- When modal verbs are used, all other words in the sentence should come in between the modal verb and the normal verb\n",
    "- When modal verbs are used, the 2nd verb in the sentence **Does not get conjugated.**\n",
    "- Modal verbs for **Ich, du & er/sie/es** does not contain the \"umlaute\".\n",
    "- Modal verbs for **Ich & er/sie/es** remains same."
   ]
  },
  {
   "cell_type": "markdown",
   "metadata": {},
   "source": [
    "**Example:**\n",
    "\n",
    "|Language|Sentence|\n",
    "|:--:|:--:|\n",
    "|English|I can pick you.|\n",
    "|Deutsch|Ich kann dich abholen|"
   ]
  },
  {
   "cell_type": "markdown",
   "metadata": {},
   "source": [
    "**Ich** -> I  \n",
    "\n",
    "**kann** -> K$\\ddot{o}$nnen form used for \"I\". (from the above table)  \n",
    "\n",
    "**dich** -> You.  \n",
    "\n",
    "**abholen** -> Pick (it is a verb) -> 2nd verb of the sentance.  \n",
    "  \n",
    "- Modal verbs always occupy the 2nd place in the sentence.  \n",
    "\n",
    "\"Ich **kann** dich abholen\"  \n",
    "  \n",
    "**Kann** -> Kann appears in the 2nd place.  \n",
    "  \n",
    "- When modal verbs are used, all other words in the sentence should come in between the modal verb and the normal verb  \n",
    "  \n",
    "\"Ich **kann** dich **abholen**\"  \n",
    "  \n",
    "- When modal verbs are used, the 2nd verb in the sentence **Does not get conjugated.**  \n",
    "  \n",
    "**abholen** -> abholen appears at the end of the sentence. and it is **NOT** conjugated.  "
   ]
  },
  {
   "cell_type": "markdown",
   "metadata": {},
   "source": [
    "### Pr$\\ddot{a}$positions (Prepositions)\n",
    "\n",
    "|Akkusative <br>Pr$\\ddot{a}$positions| Dative <br>Pr$\\ddot{a}$positions|Wechseln <br>Pr$\\ddot{a}$positions|\n",
    "|:-:|:-:|:-:|\n",
    "|**Durch** <br> (Through/By)| **Aus** <br> (From)| **An** <br> (On,vertical)|\n",
    "|**Ohne** <br> (Without)|**Au$\\beta$er** <br>(Except)| **In** <br> (In)|\n",
    "|**Gegen** <br> (against/around)|**Bei** <br> (At/With)|**Auf** <br> (On,Horizontal)|\n",
    "|**F$\\ddot{u}$r** <br> (for)|**Mit** <br> (With)|**Neben** <br> (Near, Next to)|\n",
    "|**Um** <br> (at/untill/around)|**Seit** <br> (Since)|**Vor** <br> (In front)|\n",
    "|**Bis** <br>(till/untill)|**nach** <br> (After/To)|**Hinter** <br> (Behind)|\n",
    "|**Entlang** <br> (alongside)|**Von** <br> (Of/By/From)|**Zwischen** <br> (Between)|\n",
    "|-|**Zu** <br> (At/To)|**$\\ddot{U}$ber** <br> (Above/Over)|\n",
    "|-|**Ab** <br> (From)|**Unter** <br> (Under/Below)|\n",
    "|-|**Gegen$\\ddot{u}$ber** <br> (opposite to)|-|\n"
   ]
  },
  {
   "cell_type": "markdown",
   "metadata": {},
   "source": [
    "### Pronouns\n",
    "\n",
    "|English| Accusative <br> Pronouns| Dativ <br> Pronouns|\n",
    "|:-:|:-:|:-:|\n",
    "|I|mich|mir|\n",
    "|You|dich|dir|\n",
    "|Him|ihn|ihm|\n",
    "|Her|sie|ihr|\n",
    "|Its|es|ihm|\n",
    "|Ours|uns|uns|\n",
    "|Yours|euch <br> $_{_{sounds like}}Oish$|euch|\n",
    "|Theirs|sie|Ihnen|\n",
    "|Yours|Sie|Ihnen|\n"
   ]
  },
  {
   "cell_type": "markdown",
   "metadata": {},
   "source": [
    "### Possessive articles:\n",
    "\n",
    "|English| article|\n",
    "|:-:|:-:|\n",
    "|Mine|mein|\n",
    "|Yours|dein|\n",
    "|His|sein|\n",
    "|Her's|ihr|\n",
    "|Its|sein|\n",
    "|Ours|unser|\n",
    "|Yours|euer <br> $_{_{soundslike}}$Oier|\n",
    "|Their's|ihr|\n",
    "|Yours|ihr|"
   ]
  },
  {
   "cell_type": "markdown",
   "metadata": {},
   "source": [
    "Possessive articles follows the indefinate article table.\n",
    "\n",
    "\n",
    "|Type|Masculine|Feminine|Neutral|Plural|\n",
    "|:-:|:-:|:-:|:-:|:-:|\n",
    "|**Nominative** (Subject)|+|+e|+|-|\n",
    "|**Accusative** (Direct Object)|+en|+e|+|-|\n",
    "|**Dative** (In-Direct Object)|+em|+er|+em|-|\n",
    "|**Genitive** (Possession)|+es|+er|+es|-|"
   ]
  },
  {
   "cell_type": "markdown",
   "metadata": {},
   "source": [
    "### mine\n",
    "|Type|Masculine|Feminine|Neutral|Plural|\n",
    "|:-:|:-:|:-:|:-:|:-:|\n",
    "|**Nominative** (Subject)|mein|meine|mein|meine|\n",
    "|**Accusative** (Direct Object)|meinen|meine|mein|meine|\n",
    "|**Dative** (In-Direct Object)|meinem|meiner|meinem|meinen+n|\n",
    "|**Genitive** (Possession)|meines|meiner|meines|meiner|"
   ]
  },
  {
   "cell_type": "markdown",
   "metadata": {},
   "source": [
    "### your's\n",
    "|Type|Masculine|Feminine|Neutral|Plural|\n",
    "|:-:|:-:|:-:|:-:|:-:|\n",
    "|**Nominative** (Subject)|dein|deine|dein|deine|\n",
    "|**Accusative** (Direct Object)|deinen|deine|dein|deine|\n",
    "|**Dative** (In-Direct Object)|deinem|deiner|deinem|deinen+n|\n",
    "|**Genitive** (Possession)|deines|deiner|deines|deiner|"
   ]
  },
  {
   "cell_type": "markdown",
   "metadata": {},
   "source": [
    "### it's / his\n",
    "|Type|Masculine|Feminine|Neutral|Plural|\n",
    "|:-:|:-:|:-:|:-:|:-:|\n",
    "|**Nominative** (Subject)|sein|seine|sein|seine|\n",
    "|**Accusative** (Direct Object)|seinen|seine|sein|seine|\n",
    "|**Dative** (In-Direct Object)|seinem|seiner|seinem|seinen+n|\n",
    "|**Genitive** (Possession)|seines|seiner|seines|seiner|"
   ]
  },
  {
   "cell_type": "markdown",
   "metadata": {},
   "source": [
    "### her's / their's / your's\n",
    "|Type|Masculine|Feminine|Neutral|Plural|\n",
    "|:-:|:-:|:-:|:-:|:-:|\n",
    "|**Nominative** (Subject)|ihr|ihre|ihr|ihre|\n",
    "|**Accusative** (Direct Object)|ihren|ihre|ihr|ihre|\n",
    "|**Dative** (In-Direct Object)|ihrem|ihrer|ihrem|ihren+n|\n",
    "|**Genitive** (Possession)|ihres|ihrer|ihres|ihrer|"
   ]
  },
  {
   "cell_type": "markdown",
   "metadata": {},
   "source": [
    "### Our's\n",
    "|Type|Masculine|Feminine|Neutral|Plural|\n",
    "|:-:|:-:|:-:|:-:|:-:|\n",
    "|**Nominative** (Subject)|unser|unsere|unser|unsere|\n",
    "|**Accusative** (Direct Object)|unseren|unsere|unser|unsere|\n",
    "|**Dative** (In-Direct Object)|unserem|unserer|unserem|unseren+n|\n",
    "|**Genitive** (Possession)|unseres|unserer|unseres|unserer|"
   ]
  },
  {
   "cell_type": "markdown",
   "metadata": {},
   "source": [
    "### Yours\n",
    "|Type|Masculine|Feminine|Neutral|Plural|\n",
    "|:-:|:-:|:-:|:-:|:-:|\n",
    "|**Nominative** (Subject)|euer|eu**re**|euer|eu**re**|\n",
    "|**Accusative** (Direct Object)|eur**en**|eu**re**|euer|**eure**|\n",
    "|**Dative** (In-Direct Object)|eur**em**|eur**er**|eur**em**|eur**en+n**|\n",
    "|**Genitive** (Possession)|eur**es**|eur**er**|eur**es**|eur**er**|"
   ]
  },
  {
   "cell_type": "markdown",
   "metadata": {},
   "source": [
    "## Article identification table\n",
    "\n",
    "|Der|Die|Das|\n",
    "|:--:|:--:|:--:|\n",
    "|ant|e|chen|\n",
    "|ig|ei|lein|\n",
    "|ling|schaft|ment|\n",
    "|us|heit|nis|\n",
    "|er|keit|tum|\n",
    "|en|ung|um|\n",
    "|or|$\\ddot a$t||\n",
    "|is|ik||\n",
    "|ismus|ion||\n",
    "||ur||\n",
    "||enz||"
   ]
  },
  {
   "cell_type": "markdown",
   "metadata": {},
   "source": [
    "## Der-words\n",
    "\n",
    "|Deutsch| English|\n",
    "|:--:|:--:|\n",
    "|Welch|Which|\n",
    "|Jed|Each/Every|\n",
    "|Manch|Some|\n",
    "|Dies|This/That/These|\n",
    "|Solch|Such|\n",
    "\n",
    "\n"
   ]
  },
  {
   "cell_type": "markdown",
   "metadata": {},
   "source": [
    "|Type|Masculine|Feminine|Neutral|Plural|Shortcut|\n",
    "|:-:|:-:|:-:|:-:|:-:|:-:|\n",
    "|**Nominative** (Subject)|Jed**er**<br>(De**r**)|Jed**e**<br>(Di**e**)|Jed**es** <br>(Da**s**)|Jed**e**<br>(Di**e**)|**r.e.s.e**|\n",
    "|**Accusative** (Direct Object)|Jed**en**<br>(De**n**)|Jed**e**<br>(Di**e**)|Jed**es** <br> (Da**s**)|Jed**e**<br>(Di**e**)|**n.e.s.e**|\n",
    "|**Dative** (In-Direct Object)|Jed**em**<br>(De**m**)|Jed**er**<br>(De**r**)|Jed**em**<br>(De**m**)|Jed**en+n**<br>(Den+**n**)|**m.r.m.n**|\n",
    "|**Genitive** (Possession)|Jed**es**<br>(De**s**)|Jed**er**<br>(De**r**)|Jed**es**<br>(De**s**)|Jed**er**<br>(De**r**)|**s.r.s.r**|"
   ]
  },
  {
   "cell_type": "markdown",
   "metadata": {},
   "source": [
    "|Type|Masculine|Feminine|Neutral|Plural|Shortcut|\n",
    "|:-:|:-:|:-:|:-:|:-:|:-:|\n",
    "|**Nominative** (Subject)|Welch**er**<br>(De**r**)|Welch**e**<br>(Di**e**)|Welch**es** <br>(Da**s**)|Welch**e**<br>(Di**e**)|**r.e.s.e**|\n",
    "|**Accusative** (Direct Object)|Welch**en**<br>(De**n**)|Welch**e**<br>(Di**e**)|Welch**es** <br> (Da**s**)|Welch**e**<br>(Di**e**)|**n.e.s.e**|\n",
    "|**Dative** (In-Direct Object)|Welch**em**<br>(De**m**)|Welch**er**<br>(De**r**)|Welch**em**<br>(De**m**)|Welch**en+n**<br>(Den+**n**)|**m.r.m.n**|\n",
    "|**Genitive** (Possession)|Welch**es**<br>(De**s**)|Welch**er**<br>(De**r**)|Welch**es**<br>(De**s**)|Welch**er**<br>(De**r**)|**s.r.s.r**|"
   ]
  },
  {
   "cell_type": "markdown",
   "metadata": {},
   "source": [
    "|Type|Masculine|Feminine|Neutral|Plural|Shortcut|\n",
    "|:-:|:-:|:-:|:-:|:-:|:-:|\n",
    "|**Nominative** (Subject)|Manch**er**<br>(De**r**)|Manch**e**<br>(Di**e**)|Manch**es** <br>(Da**s**)|Manch**e**<br>(Di**e**)|**r.e.s.e**|\n",
    "|**Accusative** (Direct Object)|Manch**en**<br>(De**n**)|Manch**e**<br>(Di**e**)|Manch**es** <br> (Da**s**)|Manch**e**<br>(Di**e**)|**n.e.s.e**|\n",
    "|**Dative** (In-Direct Object)|Manch**em**<br>(De**m**)|Manch**er**<br>(De**r**)|Manch**em**<br>(De**m**)|Manch**en+n**<br>(Den+**n**)|**m.r.m.n**|\n",
    "|**Genitive** (Possession)|Manch**es**<br>(De**s**)|Manch**er**<br>(De**r**)|Manch**es**<br>(De**s**)|Manch**er**<br>(De**r**)|**s.r.s.r**|"
   ]
  },
  {
   "cell_type": "markdown",
   "metadata": {},
   "source": [
    "|Type|Masculine|Feminine|Neutral|Plural|Shortcut|\n",
    "|:-:|:-:|:-:|:-:|:-:|:-:|\n",
    "|**Nominative** (Subject)|Dies**er**<br>(De**r**)|Dies**e**<br>(Di**e**)|Dies**es** <br>(Da**s**)|Dies**e**<br>(Di**e**)|**r.e.s.e**|\n",
    "|**Accusative** (Direct Object)|Dies**en**<br>(De**n**)|Dies**e**<br>(Di**e**)|Dies**es** <br> (Da**s**)|Dies**e**<br>(Di**e**)|**n.e.s.e**|\n",
    "|**Dative** (In-Direct Object)|Dies**em**<br>(De**m**)|Dies**er**<br>(De**r**)|Dies**em**<br>(De**m**)|Dies**en+n**<br>(Den+**n**)|**m.r.m.n**|\n",
    "|**Genitive** (Possession)|Dies**es**<br>(De**s**)|Dies**er**<br>(De**r**)|Dies**es**<br>(De**s**)|Dies**er**<br>(De**r**)|**s.r.s.r**|"
   ]
  },
  {
   "cell_type": "markdown",
   "metadata": {},
   "source": [
    "|Type|Masculine|Feminine|Neutral|Plural|Shortcut|\n",
    "|:-:|:-:|:-:|:-:|:-:|:-:|\n",
    "|**Nominative** (Subject)|Solch**er**<br>(De**r**)|Solch**e**<br>(Di**e**)|Solch**es** <br>(Da**s**)|Solch**e**<br>(Di**e**)|**r.e.s.e**|\n",
    "|**Accusative** (Direct Object)|Solch**en**<br>(De**n**)|Solch**e**<br>(Di**e**)|Solch**es** <br> (Da**s**)|Solch**e**<br>(Di**e**)|**n.e.s.e**|\n",
    "|**Dative** (In-Direct Object)|Solch**em**<br>(De**m**)|Solch**er**<br>(De**r**)|Solch**em**<br>(De**m**)|Solch**en+n**<br>(Den+**n**)|**m.r.m.n**|\n",
    "|**Genitive** (Possession)|Solch**es**<br>(De**s**)|Solch**er**<br>(De**r**)|Solch**es**<br>(De**s**)|Solch**er**<br>(De**r**)|**s.r.s.r**|"
   ]
  },
  {
   "cell_type": "markdown",
   "metadata": {},
   "source": [
    "## Adjektivendungen mit dem bestimmiten Artikel\n",
    "\n",
    "|Type|Masculine|Feminine|Neutral|Plural|\n",
    "|:-:|:-:|:-:|:-:|:-:|\n",
    "|**Nominative** (Subject)|e|e|e|en|\n",
    "|**Accusative** (Direct Object)|en|e|e|en|\n",
    "|**Dative** (In-Direct Object)|en|en|en|en|\n",
    "|**Genitive** (Possession)|en|en|en|en|"
   ]
  },
  {
   "cell_type": "markdown",
   "metadata": {},
   "source": [
    "## Adjektivendungen mit dem unbestimmiten Artikel \"ein\"\n",
    "\n",
    "|Type|Masculine|Feminine|Neutral|Plural|\n",
    "|:-:|:-:|:-:|:-:|:-:|\n",
    "|**Nominative** (Subject)|er|e|es|e|\n",
    "|**Accusative** (Direct Object)|en|e|es|e|\n",
    "|**Dative** (In-Direct Object)|en|en|en|en|\n",
    "|**Genitive** (Possession)|en|en|en|er|"
   ]
  },
  {
   "cell_type": "markdown",
   "metadata": {},
   "source": [
    "## Adjektivendungen ohne Artikel \n",
    "\n",
    "|Type|Masculine|Feminine|Neutral|Plural|\n",
    "|:-:|:-:|:-:|:-:|:-:|\n",
    "|**Nominative** (Subject)|er|e|es|e|\n",
    "|**Accusative** (Direct Object)|en|e|es|e|\n",
    "|**Dative** (In-Direct Object)|em|er|em|en|\n",
    "|**Genitive** (Possession)|en|er|en|er|"
   ]
  },
  {
   "cell_type": "markdown",
   "metadata": {},
   "source": [
    "## Adjektivendungen nach dem Negation Artikel\n",
    "\n",
    "|Type|Masculine|Feminine|Neutral|Plural|\n",
    "|:-:|:-:|:-:|:-:|:-:|\n",
    "|**Nominative** (Subject)|Keiner|Keine|Keines|Keinen|\n",
    "|**Accusative** (Direct Object)|Keinen|Keine|Keines|Keinen|\n",
    "|**Dative** (In-Direct Object)|Keinem|Keiner|Keinem|Keinen|\n",
    "|**Genitive** (Possession)|Keinen|Keiner|Keinen|Keiner|"
   ]
  },
  {
   "cell_type": "markdown",
   "metadata": {},
   "source": [
    "## Präteritum (Past tense for modal verbs)\n",
    "\n",
    "|English| Deutsch| K$\\ddot{o}$nnen <br> (can)| M$\\ddot{u}ssen$ <br> (must)|Wollen <br>(want)|Sollen <br> (Should)| D$\\ddot{u}rfen$ <br> (May/Allow)| m$\\ddot{o}gen$ <br> ( to like)|\n",
    "|:-|:-|:-:|:-:|:-:|:-:|:-:|:-:|\n",
    "|I| Ich| konnte| musste|wollte|sollte|durfte| mochte |\n",
    "|You (singular)| du| konnte**st**| musste**st**|wollte**st**|sollte**st**|durfte**st**|mochtest|\n",
    "|He/She/It| er/sie/es|konnte| musste|wollte|sollte|durfte|mochte|\n",
    "|We| wir| konnte**n**| musste**n**|wollte**n**|sollte**n**|durfte**n**|mochten|\n",
    "|You all| Ihr| konnte**t**| musste**t**|wollte**t**|sollte**t**|durfte**t**|mochte|\n",
    "|They| sie| konnte**n**| musste**n**|wollte**n**|sollte**n**|durfte**n**|mochten|\n",
    "|You (plural)| Sie| konnte**n**| musstte**n**|wolle**n**|sollte**n**|durfte**n**|mochten|"
   ]
  },
  {
   "cell_type": "markdown",
   "metadata": {},
   "source": [
    "## Präteritum (Past tense for sein and haben)\n",
    "\n",
    "|English| Deutsch| Sein | Haben|\n",
    "|:-|:-|:-:|:-:|\n",
    "|I| Ich| war <br>(was)| hatte <br>(had)|\n",
    "|You (singular)| du| warst<br> (were)| hatte**st** <br> (had)|\n",
    "|He/She/It| er/sie/es|war <br>(was) | hatt**e** <br> (had)|\n",
    "|We| wir| waren <br>(were) | hatte**n** <br>(had)|\n",
    "|You all| Ihr| wart <br> (were) | hatte**t** <br>(had)|\n",
    "|They| sie| waren <br>(were) | hatte**n** <br>(had)|\n",
    "|You (plural)| Sie| waren <br> (was/were)| hatte**n** <br>(had)|"
   ]
  },
  {
   "cell_type": "markdown",
   "metadata": {},
   "source": [
    "# Alphabets\n",
    "\n",
    "|German|English|\n",
    "|:-:| :-:|\n",
    "|A |aa |\n",
    "|B | bay|\n",
    "|C| tsay|\n",
    "|D| day|\n",
    "|E| ey|\n",
    "|F| eff|\n",
    "|G| gay|\n",
    "|H| ha|\n",
    "|I| e|\n",
    "|J| yott|\n",
    "|K| ka|\n",
    "|L| ell|\n",
    "|M| emm|\n",
    "|N| en|\n",
    "|O| o|\n",
    "|P| pay|\n",
    "|Q| ku|\n",
    "|R| err|\n",
    "|S| ess|\n",
    "|T| tay|\n",
    "|U| uu|\n",
    "|V| fau|\n",
    "|W| way|\n",
    "|X| iks|\n",
    "|Y| upsilon|\n",
    "|Z| tset|\n",
    "|**&#0228;**|**&#0228**|\n",
    "|**&#0196;**|**&#0196**|\n",
    "|**&#0246;**|**&#0246**|\n",
    "|**&#0214;**|**&#0214**|\n",
    "|**&#0252;**|**&#0252**|\n",
    "|**&#0220;**|**&#0220**|\n",
    "|**&#0223;**|**&#0223**|\n"
   ]
  }
 ],
 "metadata": {
  "kernelspec": {
   "display_name": "my_conda_3.7",
   "language": "python",
   "name": "my_conda_3.7"
  },
  "language_info": {
   "codemirror_mode": {
    "name": "ipython",
    "version": 3
   },
   "file_extension": ".py",
   "mimetype": "text/x-python",
   "name": "python",
   "nbconvert_exporter": "python",
   "pygments_lexer": "ipython3",
   "version": "3.7.3"
  }
 },
 "nbformat": 4,
 "nbformat_minor": 2
}
