{
 "cells": [
  {
   "cell_type": "code",
   "execution_count": 1,
   "metadata": {},
   "outputs": [
    {
     "data": {
      "text/html": [
       "<style>\n",
       "table {float:left}\n",
       "font:size \n",
       "</style>"
      ],
      "text/plain": [
       "<IPython.core.display.HTML object>"
      ]
     },
     "metadata": {},
     "output_type": "display_data"
    }
   ],
   "source": [
    "%%html\n",
    "<style>\n",
    "table {float:left}\n",
    "font:size \n",
    "</style>"
   ]
  },
  {
   "cell_type": "markdown",
   "metadata": {},
   "source": [
    "# Basics of German grammer"
   ]
  },
  {
   "cell_type": "markdown",
   "metadata": {},
   "source": [
    "### General conversion table\n",
    "\n",
    "|Actual| Becomes|\n",
    "|:-:|:-:|\n",
    "|ie|e|\n",
    "|ei|i|\n",
    "|eu|oi|\n",
    "|ig|ish|\n",
    "|e (at the end of word)| ah|"
   ]
  },
  {
   "cell_type": "markdown",
   "metadata": {},
   "source": [
    "###  W - Fragen   (W- Questions)\n",
    "   \n",
    "|English| Deutsch| sounds like|\n",
    "|:-|:-|:-:|\n",
    "|Why|warum| Varuhm|\n",
    "|What| was | Vass|\n",
    "|Where| wo| Voh|\n",
    "|When| wann| Vann|\n",
    "|Whom| wem/wen| Veim/Vein|\n",
    "|Which| welche| Velsha|\n",
    "|Whose| wessen| Vessen|\n",
    "|Who|wer| Var|\n",
    "|How| wei| We|"
   ]
  },
  {
   "cell_type": "markdown",
   "metadata": {},
   "source": [
    "### General How questions\n",
    "|English| Deutsch| sounds like|\n",
    "|:-:|:-|:-:|\n",
    "|How come?| Wei so| we so|\n",
    "|How much?| Wei viel| we feel|\n",
    "|How long?| Wei lange| we laangah|\n"
   ]
  },
  {
   "cell_type": "markdown",
   "metadata": {},
   "source": [
    "### General Where questions\n",
    "|English| Deutsch| sounds like|\n",
    "|:-:|:-|:-:|\n",
    "|Where from?| Woher| woh her|\n",
    "|Where to?| Wohin| woh hin|"
   ]
  },
  {
   "cell_type": "markdown",
   "metadata": {},
   "source": [
    "### Verb Conjugation\n",
    "**Regular Verb -> gehen (to go)**\n",
    "Stem of the verb is **geh**\n",
    "\n",
    "**Irregular verb -> Sprechen (speak)**\n",
    "Stem of the verb is **Sprech**\n",
    "\n",
    "|English| Deutsch| Ends with| Regular verb Example| Irregular verb Example|\n",
    "|:-|:-|:-:|:-:|:-:| |:-:|\n",
    "|I| Ich| e| geh**e**| sprech**e**|\n",
    "|You (singular)| du| st| geh**st**| sprich**st**|\n",
    "|He/She/It| er/sie/es| t| geh**t**| sprich**t**|\n",
    "|We| wir| en| geh**en** | Sprech**en**|\n",
    "|You all| Ihr| t| geh**t**| sprech**t**|\n",
    "|They| sie| en| geh**en**| Sprech**en**|\n",
    "|You (plural)| Sie| en| geh**en**|Sprech**en**|"
   ]
  },
  {
   "cell_type": "markdown",
   "metadata": {},
   "source": [
    "**Note:**\n",
    "- For **W-Fragen**, verb is always at the 2nd place in the sentence\n",
    "- Irregular verbs spelling of stem of the verb changes only with $\\large du$ and $\\large er/sie/es$"
   ]
  },
  {
   "cell_type": "markdown",
   "metadata": {},
   "source": [
    "### Nouns\n",
    "\n",
    "|Type| Aticle (the)| Example |\n",
    "|:-:|:-:||:-:|\n",
    "|Masculine| Der| der Mann|\n",
    "|Feminine| Die| die Frau|\n",
    "|Neutral| Das| das Auto|"
   ]
  },
  {
   "cell_type": "markdown",
   "metadata": {},
   "source": [
    "### Bestimmt Artikel (Definate Article)\n",
    "<!--\n",
    "|Type|Masculine|Feminie|Neutral|Plural|Shortcut|\n",
    "|:-:|:-:|:-:|:-:|:-:|:-:|\n",
    "|**Nominative** (Subject)||||||\n",
    "|**accusative** (Direct Object)||||||\n",
    "|**dative** (In-Direct Object)||||||\n",
    "|**genitive** (Possession)||||||\n",
    "-->"
   ]
  },
  {
   "cell_type": "markdown",
   "metadata": {},
   "source": [
    "|Type|Masculine|Feminine|Neutral|Plural|Shortcut|\n",
    "|:-:|:-:|:-:|:-:|:-:|:-:|\n",
    "|**Nominative** (Subject)|De**r**|Di**e**|Da**s**|Di**e**|**r.e.s.e**|\n",
    "|**Accusative** (Direct Object)|De**n**|Di**e**|Da**s**|Di**e**|**n.e.s.e**|\n",
    "|**Dative** (In-Direct Object)|De**m**|De**r**|De**m**|Den+**n**|**m.r.m.n**|\n",
    "|**Genitive** (Possession)|De**s**|De**r**|De**s**|De**r**|**s.r.s.r**|"
   ]
  },
  {
   "cell_type": "markdown",
   "metadata": {},
   "source": [
    "**Sein (to be) and haben (to have)**\n",
    "\n",
    "|English| Deutsch| Ends with| Sein | Haben|\n",
    "|:-|:-|:-:|:-:|:-:| |:-:|\n",
    "|I| Ich| e| bin (am)| hab**e** (have)|\n",
    "|You (singular)| du| st| bist (are)| has**t** (have)|\n",
    "|He/She/It| er/sie/es| t| ist (is) | ha**t** (has)|\n",
    "|We| wir| en| Sind (are) | hab**en** (have)|\n",
    "|You all| Ihr| t| Seid (are) | hab**t** (have)|\n",
    "|They| sie| en| Sind (are) | hab**en** (have)|\n",
    "|You (plural)| Sie| en| Sind (are/is)| hab**en** (have)|"
   ]
  },
  {
   "cell_type": "markdown",
   "metadata": {},
   "source": [
    "### Examples:\n",
    "\n",
    "#### Norminative:\n",
    "<!--\n",
    "|Type| Example| In English|\n",
    "|:-:|:-:|:-:|\n",
    "|Masculine|||\n",
    "|Feminine|||\n",
    "|Netural|||\n",
    "|Plural||| -->\n",
    "\n",
    "|Type| Example| In English |\n",
    "|:-:|:-:|:-:|\n",
    "|Masculine|Der Mann ist gro$\\beta$| Man is huge/tall.|\n",
    "|Feminine|Die Frau ist $h\\ddot{u}bsch$| Woman is pretty.|\n",
    "|Netural| Das kind ist klug| Kid is clever|\n",
    "|Plural| Die kinder Sind klug| Kids are clever|"
   ]
  },
  {
   "cell_type": "markdown",
   "metadata": {},
   "source": [
    "#### Accusative:\n",
    "|Type| Example| In English|\n",
    "|:-:|:-:|:-:|\n",
    "|Masculine| Ich seh**e** de**n** Mann | **I** see the man|\n",
    "|Feminine| Ich seh**e** di**e** Frau| **I** see the woman|\n",
    "|Netural| Ich sehe da**s** kind| **I** see the kid|\n",
    "|Plural| Ich sehe di**e** kinder| **I** see the kids|"
   ]
  },
  {
   "cell_type": "markdown",
   "metadata": {},
   "source": [
    "### Dative\n",
    "|Type| Example| In English|\n",
    "|:-:|:-:|:-:|\n",
    "|Masculine|Ich gebe dem Mann das Auto| I give bike to the man|\n",
    "|Feminine|Ich schenke der Frau den Ring.| I give ring to the woman|\n",
    "|Netural|Ich gebe dem kind die schokolade|I give chocolate to the kid|\n",
    "|Plural|Ich gebe den kindern die schokolade|I give chocolate to the kids| "
   ]
  },
  {
   "cell_type": "markdown",
   "metadata": {},
   "source": [
    "## Unbestimmt Artikel (Indefinate article)\n",
    "\n",
    "**ein  -> a**  \n",
    "  \n",
    "**eine -> an**\n",
    "\n",
    "|Type|Masculine|Feminine|Neutral|Plural|\n",
    "|:-:|:-:|:-:|:-:|:-:|\n",
    "|**Nominative** (Subject)|ein|eine|ein|-|\n",
    "|**Accusative** (Direct Object)|einen|eine|ein|-|\n",
    "|**Dative** (In-Direct Object)|einem|einer|einem|-|\n",
    "|**Genitive** (Possession)|eines|einer|eines|-|"
   ]
  },
  {
   "cell_type": "markdown",
   "metadata": {},
   "source": [
    "|Type|Masculine|Feminine|Neutral|Plural|\n",
    "|:-:|:-:|:-:|:-:|:-:|\n",
    "|**Nominative** (Subject)|+|+e|+|-|\n",
    "|**Accusative** (Direct Object)|+en|+e|+|-|\n",
    "|**Dative** (In-Direct Object)|+em|+er|+em|-|\n",
    "|**Genitive** (Possession)|+es|+er|+es|-|"
   ]
  },
  {
   "cell_type": "markdown",
   "metadata": {},
   "source": [
    "## Negation Article.\n",
    "\n",
    "|Type|Masculine|Feminine|Neutral|Plural|\n",
    "|:-:|:-:|:-:|:-:|:-:|\n",
    "|**Nominative** (Subject)|kein|keine|kein|keine|\n",
    "|**Accusative** (Direct Object)|keinen|keine|kein|keine|\n",
    "|**Dative** (In-Direct Object)|keinem|keiner|keinem|keinen+n|\n",
    "|**Genitive** (Possession)|keines|keiner|keines|keiner|"
   ]
  },
  {
   "cell_type": "markdown",
   "metadata": {},
   "source": [
    "|Type|Masculine|Feminine|Neutral|Plural|\n",
    "|:-:|:-:|:-:|:-:|:-:|\n",
    "|**Nominative** (Subject)|+|+e|+|+e|\n",
    "|**Accusative** (Direct Object)|+en|+e|+|+e|\n",
    "|**Dative** (In-Direct Object)|+em|+er|+em|+en+n|m.r.m.n|\n",
    "|**Genitive** (Possession)|+es|+er|+es|+er|"
   ]
  },
  {
   "cell_type": "markdown",
   "metadata": {},
   "source": [
    "|Language|Sentence|\n",
    "|:-:|:-:|\n",
    "|Deutsch| Ein Mann ist hier.|\n",
    "|English| A man is here.|\n",
    "|Deutsch|Eine Frau ist hier.|\n",
    "|English| A woman is here.|"
   ]
  },
  {
   "cell_type": "markdown",
   "metadata": {},
   "source": [
    "## Wichtige verben\n",
    "\n",
    "\n",
    "|English| Deutsch| Ends with| Kommen <br> (to come) | finden <br> (to find)| brauchen <br> (to need)| kaufen <br> (to buy)|nehmen <br>(to take) |machen <br> (to make)|kochen <br> (to cook)|\n",
    "|:-|:-|:-:|:-:|:-:| |:-:|:-:|:-:|:-:|:-:|:-:|:-:|:-:|\n",
    "|I| Ich| e| komm**e**| find**e**| brauch**e**| kauf**e**| hehm**e**| mach**e**| koch**e**|\n",
    "|You (singular)| du| st| komme**st**| finde**st**| brauch**st**|kauf**st**|nehm**st**|mach**st**|koch**st**|\n",
    "|He/She/It| er/sie/es| t| komm**t**| finde**t**| brauch**t**|kauf**t**|nehm**t**|mach**t**|koch**t**|\n",
    "|We| wir| en| komm**en**| find**en**| brauch**en**|kauf**en**|nehm**en**|mach**en**|koch**en**|\n",
    "|You all| Ihr| t|  komm**t**|finde**t**|brauch**t**|kauf**t**|nehm**t**|mach**t**|koch**t**|\n",
    "|They| sie| en| komm**en**| find**en**| brauch**en**|kauf**en**|nehm**en**|mach**en**|koch**en**|\n",
    "|You (plural)| Sie| en| komm**en**| find**en**|brauch**em**|kauf**en**|nehm**en**|mach**en**|koch**en**|"
   ]
  },
  {
   "cell_type": "markdown",
   "metadata": {},
   "source": [
    "## Wichtige verben\n",
    "\n",
    "|English| Deutsch| Ends with| arbeiten <br> (to work) | fahren <br> (to drive)|gehen <br> (to go)|lesen <br> (to read)|wohnen <br> (to stay)|hei$\\beta$en <br> (to be called)| sprechen <br> (to speak)| spielen <br> (to play)|essen <br> (to eat)|\n",
    "|:-|:-|:-:|:-:|:-:| |:-:|\n",
    "|I| Ich| e| arbeit**e**| **fahr**| geh**e**| les**e**| wohn**e**|hei$\\beta$**e**| sprech**e**| spiel**e**|ess**e**|\n",
    "|You (singular)| du| st| arbite**st**|**f$\\ddot{a}$hrst**|geh**st**|**liest**|wohn**st**|hei$\\beta$**t**|sprich**st**|spiel**st**| **isst**|\n",
    "|He/She/It| er/sie/es| t| arbiete**t**|**f$\\ddot{a}$hrt**|geh**t**|**liest**|wohn**t**|hei$\\beta$**t**|sprich**t**|spiel**t**| **isst**|\n",
    "|We| wir| en| arbiet**en**| fahr**en**|geh**en**|les**en**|wohn**en**|hei$\\beta$**en**| sprech**en**|spiel**en**| ess**en**|\n",
    "|You all| Ihr| t| arbiete**t**|fahr**t**|geh**t**| les**t**|wohn**t**|hei$\\beta$**t**| sprich**t**|spiel**t**| ess**t**|\n",
    "|They| sie| en| arbit**en**|fahr**en**| geh**en**| les**en**|wohn**en**|hei$\\beta$**en**|sprech**en**|spiel**en**|ess**en**|\n",
    "|You (plural)| Sie| en|arbit**en**| fahr**en**|geh**en**|les**en**|wohn**en**|hei$\\beta$**en**|sprech**en**|spiel**en**|ess**en**|"
   ]
  },
  {
   "cell_type": "markdown",
   "metadata": {},
   "source": [
    "## Modal Verbs\n",
    "\n",
    "|English| Deutsch| Ends with| M$\\ddot{u}$ssen <br>  (Must)|M$\\ddot{u}$chten <br>(Would like)|K$\\ddot{o}$nnen <br> (Can)|Sollen <br> (Should)|Wollen <br> (Want)|D$\\ddot{u}$rfen <br> (May/Allow)| M$\\ddot{o}$gen <br> (Like)|\n",
    "|:-|:-|:-:|:-:|:-:| |:-:|:-:|:-:|:-:|:-:|:-:|\n",
    "|I| Ich| e| **Muss**| **Mochte**|**Kann**|**Soll**|**Will**|**Darf**|**Mag**|\n",
    "|You (singular)| du| st| **Musst**| **Mochtst**|**Kannst**|**Sollst**|**Willst**|**Darfst**|**Magst**|\n",
    "|He/She/It| er/sie/es| t| **Muss**| **Mochte**|**kann**|**Soll**|**Will**|**Darf**|**Mag**|\n",
    "|We| wir| en| M$\\ddot{u}$ssen | M$\\ddot{u}$chten| K$\\ddot{o}$nnen|Sollen|Wollen|D$\\ddot{u}$rfen| M$\\ddot{o}$gen|\n",
    "|You all| Ihr| t| M$\\ddot{u}$ss**t**| M$\\ddot{u}$cht**et**|K$\\ddot{o}$nn**t**|Soll**t**|Woll**t**|D$\\ddot{u}$rf**t**| M$\\ddot{o}$g**t**|\n",
    "|They| sie| en| M$\\ddot{u}$ssen| M$\\ddot{u}$chten|K$\\ddot{o}$nnen|Sollen|Wollen|D$\\ddot{u}$rfen| M$\\ddot{o}$gen|\n",
    "|You (plural)| Sie| en| M$\\ddot{u}$ssen|M$\\ddot{u}$chten|K$\\ddot{o}$nnen|Sollen|Wollen|D$\\ddot{u}$rfen| M$\\ddot{o}$gen|"
   ]
  },
  {
   "cell_type": "markdown",
   "metadata": {},
   "source": [
    "**Note:**  \n",
    "\n",
    "- Modal verbs always occupy the 2nd place in the sentence.\n",
    "- Modal verbs are superior to other verbs.\n",
    "- When modal verbs are used, all other words in the sentence should come in between the modal verb and the normal verb\n",
    "- When modal verbs are used, the 2nd verb in the sentence **Does not get conjugated.**\n",
    "- Modal verbs for **Ich, du & er/sie/es** does not contain the \"umlaute\".\n",
    "- Modal verbs for **Ich & er/sie/es** remains same."
   ]
  },
  {
   "cell_type": "markdown",
   "metadata": {},
   "source": [
    "**Example:**\n",
    "\n",
    "|Language|Sentence|\n",
    "|:--:|:--:|\n",
    "|English|I can pick you.|\n",
    "|Deutsch|Ich kann dich abholen|"
   ]
  },
  {
   "cell_type": "markdown",
   "metadata": {},
   "source": [
    "**Ich** -> I  \n",
    "\n",
    "**kann** -> K$\\ddot{o}$nnen form used for \"I\". (from the above table)  \n",
    "\n",
    "**dich** -> You.  \n",
    "\n",
    "**abholen** -> Pick (it is a verb) -> 2nd verb of the sentance.  \n",
    "  \n",
    "- Modal verbs always occupy the 2nd place in the sentence.  \n",
    "\n",
    "\"Ich **kann** dich abholen\"  \n",
    "  \n",
    "**Kann** -> Kann appears in the 2nd place.  \n",
    "  \n",
    "- When modal verbs are used, all other words in the sentence should come in between the modal verb and the normal verb  \n",
    "  \n",
    "\"Ich **kann** dich **abholen**\"  \n",
    "  \n",
    "- When modal verbs are used, the 2nd verb in the sentence **Does not get conjugated.**  \n",
    "  \n",
    "**abholen** -> abholen appears at the end of the sentence. and it is **NOT** conjugated.  "
   ]
  },
  {
   "cell_type": "markdown",
   "metadata": {},
   "source": [
    "### Pr$\\ddot{a}$positions (Prepositions)\n",
    "\n",
    "|Akkusative <br>Pr$\\ddot{a}$positions| Dative <br>Pr$\\ddot{a}$positions|Wechseln <br>Pr$\\ddot{a}$positions|\n",
    "|:-:|:-:|:-:|\n",
    "|Druch <br> (Through)| Aus <br> (From)| An <br> (On,vertical)|\n",
    "|Ohne <br> (Without)|Au$\\beta$er <br>(Except)| In <br> (In)|\n",
    "|Gegen <br> (against/around)|Bei <br> (At/With)|Auf <br> (On,Horizontal)|\n",
    "|F$\\ddot{u}$r <br> (for)|Mit <br> (With)|Neben <br> (Near, Next to)|\n",
    "|Um <br> (at/untill)|Seit <br> (Since)|Vor <br> (In front)|\n",
    "|Entlang <br> (alongside)|nach <br> (After/To)|Hinter <br> (Behind)|\n",
    "|-|Von <br> (Of/By/From)|Zwischen <br> (Between)|\n",
    "|-|Zu <br> (At/To)|$\\ddot{U}$ber <br> (Above/Over)|\n",
    "|-|Ab <br> (From)|Unter <br> (Under/Below|\n",
    "|-|Genen$\\ddot{u}$ber <br> (opposite to)|-|\n"
   ]
  },
  {
   "cell_type": "markdown",
   "metadata": {},
   "source": [
    "### Pronouns\n",
    "\n",
    "|English| Accusative <br> Pronouns| Dativ <br> Pronouns|\n",
    "|:-:|:-:|:-:|\n",
    "|I|mich|mir|\n",
    "|You|dich|dir|\n",
    "|Him|ihn|ihm|\n",
    "|Her|sie|ihr|\n",
    "|Its|es|ihm|\n",
    "|Ours|uns|uns|\n",
    "|Yours|euch <br> $_{_{sounds like}}Oish$|euch|\n",
    "|Theirs|sie|Ihnen|\n",
    "|Yours|Sie|Ihnen|\n"
   ]
  },
  {
   "cell_type": "markdown",
   "metadata": {},
   "source": [
    "### Possessive articles:\n",
    "\n",
    "|English| article|\n",
    "|:-:|:-:|\n",
    "|Mine|mein|\n",
    "|Yours|dein|\n",
    "|His|sein|\n",
    "|Her's|ihr|\n",
    "|Its|sein|\n",
    "|Ours|unser|\n",
    "|Yours|euer <br> $_{_{soundslike}}$Oier|\n",
    "|Their's|ihr|\n",
    "|Yours|ihr|"
   ]
  },
  {
   "cell_type": "markdown",
   "metadata": {},
   "source": [
    "## Article identification table\n",
    "\n",
    "|Der|Die|Das|\n",
    "|:--:|:--:|:--:|\n",
    "|ant|e|chen|\n",
    "|ig|ei|lein|\n",
    "|ling|schaft|ment|\n",
    "|us|heit|nis|\n",
    "|er|keit|tum|\n",
    "|en|ung|um|\n",
    "|or|$\\ddot a$t||\n",
    "|is|ik||\n",
    "|ismus|ion||\n",
    "||ur||\n",
    "||enz||"
   ]
  },
  {
   "cell_type": "code",
   "execution_count": null,
   "metadata": {},
   "outputs": [],
   "source": []
  }
 ],
 "metadata": {
  "kernelspec": {
   "display_name": "py37_django",
   "language": "python",
   "name": "py37_django"
  },
  "language_info": {
   "codemirror_mode": {
    "name": "ipython",
    "version": 3
   },
   "file_extension": ".py",
   "mimetype": "text/x-python",
   "name": "python",
   "nbconvert_exporter": "python",
   "pygments_lexer": "ipython3",
   "version": "3.7.1"
  }
 },
 "nbformat": 4,
 "nbformat_minor": 2
}
